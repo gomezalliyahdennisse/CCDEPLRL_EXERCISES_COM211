{
  "nbformat": 4,
  "nbformat_minor": 0,
  "metadata": {
    "colab": {
      "provenance": []
    },
    "kernelspec": {
      "name": "python3",
      "display_name": "Python 3"
    },
    "language_info": {
      "name": "python"
    }
  },
  "cells": [
    {
      "cell_type": "markdown",
      "source": [
        "## Alliyah Dennisse B. Gonez\n",
        "COMML-211"
      ],
      "metadata": {
        "id": "4nGig0PlA1RY"
      }
    },
    {
      "cell_type": "markdown",
      "source": [
        "# Exercise 2"
      ],
      "metadata": {
        "id": "tqFPmGbJ7Oah"
      }
    },
    {
      "cell_type": "markdown",
      "source": [
        "\n",
        "## Forward Pass and Backward Pass"
      ],
      "metadata": {
        "id": "cUkdx6a498S8"
      }
    },
    {
      "cell_type": "markdown",
      "source": [
        "<img src=\"https://github.com/robitussin/CCDEPLRL_EXERCISES/blob/main/images/exercise2.png?raw=true\"/>"
      ],
      "metadata": {
        "id": "0Q5Io34f-x38"
      }
    },
    {
      "cell_type": "markdown",
      "source": [
        "<img src=\"\"/>"
      ],
      "metadata": {
        "id": "-ZTBRmkM7JMR"
      }
    },
    {
      "cell_type": "markdown",
      "source": [
        "1. What is the predicted output? (`20 points`)"
      ],
      "metadata": {
        "id": "7HD5MNgg7hIu"
      }
    },
    {
      "cell_type": "code",
      "execution_count": 1,
      "metadata": {
        "id": "2cbutiml5cm_",
        "colab": {
          "base_uri": "https://localhost:8080/"
        },
        "outputId": "a84c15bc-2f9f-4578-c483-f086dfc9606e"
      },
      "outputs": [
        {
          "output_type": "stream",
          "name": "stdout",
          "text": [
            "Answer: 4.0\n"
          ]
        }
      ],
      "source": [
        "# z2 = (Z1) (W1)\n",
        "# z2 = (2.0) (2.0)\n",
        "# Answer: z2 = 4.0\n",
        "\n",
        "print (\"Answer: 4.0\")\n"
      ]
    },
    {
      "cell_type": "markdown",
      "source": [
        "2. Find the loss using the Mean Squared Error (MSE) function (`20 points`)"
      ],
      "metadata": {
        "id": "JTh2z2v97k0J"
      }
    },
    {
      "cell_type": "code",
      "source": [
        "# C = (z2 - y) ^2\n",
        "# C = (4.0 - 1) ^2\n",
        "# C = (3.0) ^2\n",
        "# Answer: C = 9.0\n",
        "\n",
        "print (\"Answer: 9.0\")"
      ],
      "metadata": {
        "id": "F2D7opAr7t3U",
        "colab": {
          "base_uri": "https://localhost:8080/"
        },
        "outputId": "9c160262-4df7-4b7a-ba31-1f6d2e98944d"
      },
      "execution_count": 2,
      "outputs": [
        {
          "output_type": "stream",
          "name": "stdout",
          "text": [
            "Answer: 9.0\n"
          ]
        }
      ]
    },
    {
      "cell_type": "markdown",
      "source": [
        "3. What is the derivative of $z_{2}$ with respect to $w_{1}$? (`20 points`)"
      ],
      "metadata": {
        "id": "wz5D8wEl7wtT"
      }
    },
    {
      "cell_type": "code",
      "source": [
        "# ∂ = z2 ÷ w1\n",
        "# ∂ = 4.0 ÷ 2.0\n",
        "# Answer: ∂ = 2.0\n",
        "\n",
        "print (\"Answer = 2.0\")"
      ],
      "metadata": {
        "id": "n8Q_9JJ57xFL",
        "colab": {
          "base_uri": "https://localhost:8080/"
        },
        "outputId": "18db252c-0063-4e95-d34c-24c7ee7b4ef8"
      },
      "execution_count": 3,
      "outputs": [
        {
          "output_type": "stream",
          "name": "stdout",
          "text": [
            "Answer = 2.0\n"
          ]
        }
      ]
    },
    {
      "cell_type": "markdown",
      "source": [
        "4. What is the derivative of the loss with respect to $z_{2}$? (`20 points`)"
      ],
      "metadata": {
        "id": "HVpt0n-E9TIx"
      }
    },
    {
      "cell_type": "code",
      "source": [
        "# ∂C / ∂z2 = 2(z2 - y)\n",
        "# ∂C / ∂z2 = 2(4.0 - 1)\n",
        "# ∂C / ∂z2 = 2(3)\n",
        "#∂C / ∂z2 = 6.0\n",
        "\n",
        "print (\"Answer: 6.0\")\n"
      ],
      "metadata": {
        "id": "KM4fEL059grQ",
        "colab": {
          "base_uri": "https://localhost:8080/"
        },
        "outputId": "f51835e0-09bc-4be4-8c12-c960dc4bcb73"
      },
      "execution_count": 4,
      "outputs": [
        {
          "output_type": "stream",
          "name": "stdout",
          "text": [
            "Answer: 6.0\n"
          ]
        }
      ]
    },
    {
      "cell_type": "markdown",
      "source": [
        "5. What is the derivative of the loss with respect to $w_{1}$? (`20 points`)"
      ],
      "metadata": {
        "id": "hlO5xdMx9hhl"
      }
    },
    {
      "cell_type": "code",
      "source": [
        "# ∂C / ∂w1 = 2(z2 - y)\n",
        "# ∂C / ∂w1 = 2 * 2(w1z1 - 1)\n",
        "# ∂C / ∂w1 = 2 * 2((2.0)w1 -1)\n",
        "# ∂C / ∂w1 = 4 (w1 (2) - 1)\n",
        "# ∂C / ∂w1 = 8 * w1 - 2\n",
        "print (\" Answer: 8 * w1 - 4\")\n",
        "\n",
        "\n",
        "\n"
      ],
      "metadata": {
        "id": "-xP2grHW9hxK",
        "colab": {
          "base_uri": "https://localhost:8080/"
        },
        "outputId": "9f8ca0a2-68f6-450d-a041-8447392439f3"
      },
      "execution_count": 5,
      "outputs": [
        {
          "output_type": "stream",
          "name": "stdout",
          "text": [
            " Answer: 8 * w1 - 4\n"
          ]
        }
      ]
    }
  ]
}