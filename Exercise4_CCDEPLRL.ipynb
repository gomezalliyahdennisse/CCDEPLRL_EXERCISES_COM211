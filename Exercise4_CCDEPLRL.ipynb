{
  "cells": [
    {
      "cell_type": "markdown",
      "metadata": {
        "id": "view-in-github",
        "colab_type": "text"
      },
      "source": [
        "<a href=\"https://colab.research.google.com/github/gomezalliyahdennisse/CCDEPLRL_EXERCISES_COM211/blob/main/Exercise4_CCDEPLRL.ipynb\" target=\"_parent\"><img src=\"https://colab.research.google.com/assets/colab-badge.svg\" alt=\"Open In Colab\"/></a>"
      ]
    },
    {
      "cell_type": "markdown",
      "metadata": {
        "id": "hY-fjvwfy2P9"
      },
      "source": [
        "# Exercise 4"
      ]
    },
    {
      "cell_type": "code",
      "execution_count": 154,
      "metadata": {
        "id": "drsUfVVXyxJl"
      },
      "outputs": [],
      "source": [
        "import tensorflow as tf\n",
        "from tensorflow.keras.preprocessing.text import Tokenizer\n",
        "from tensorflow.keras.preprocessing.sequence import pad_sequences"
      ]
    },
    {
      "cell_type": "code",
      "execution_count": 155,
      "metadata": {
        "id": "y4e6GG2CzJUq"
      },
      "outputs": [],
      "source": [
        "import numpy as np\n",
        "import pandas as pd\n",
        "\n",
        "dataset = pd.read_json('reviews.json')\n"
      ]
    },
    {
      "cell_type": "code",
      "source": [
        "dataset.head()"
      ],
      "metadata": {
        "id": "lW6mgNsBLNcQ",
        "colab": {
          "base_uri": "https://localhost:8080/",
          "height": 206
        },
        "outputId": "72a45bf5-697b-4cf9-8b81-7bedf023f1f2"
      },
      "execution_count": 156,
      "outputs": [
        {
          "output_type": "execute_result",
          "data": {
            "text/plain": [
              "                                              review  rating\n",
              "0                    sir okay armygreen shorts nice        5\n",
              "1  di pareha yong mga size nila may sobrang liit ...       5\n",
              "2  super worth it ang ganda Sombra grabi order na...       5\n",
              "3                                   ganda po salamat       5\n",
              "4                maayos pagkadeliver maganda den sya       5"
            ],
            "text/html": [
              "\n",
              "  <div id=\"df-8269f667-b1cf-4249-a2da-2423448b94d3\" class=\"colab-df-container\">\n",
              "    <div>\n",
              "<style scoped>\n",
              "    .dataframe tbody tr th:only-of-type {\n",
              "        vertical-align: middle;\n",
              "    }\n",
              "\n",
              "    .dataframe tbody tr th {\n",
              "        vertical-align: top;\n",
              "    }\n",
              "\n",
              "    .dataframe thead th {\n",
              "        text-align: right;\n",
              "    }\n",
              "</style>\n",
              "<table border=\"1\" class=\"dataframe\">\n",
              "  <thead>\n",
              "    <tr style=\"text-align: right;\">\n",
              "      <th></th>\n",
              "      <th>review</th>\n",
              "      <th>rating</th>\n",
              "    </tr>\n",
              "  </thead>\n",
              "  <tbody>\n",
              "    <tr>\n",
              "      <th>0</th>\n",
              "      <td>sir okay armygreen shorts nice</td>\n",
              "      <td>5</td>\n",
              "    </tr>\n",
              "    <tr>\n",
              "      <th>1</th>\n",
              "      <td>di pareha yong mga size nila may sobrang liit ...</td>\n",
              "      <td>5</td>\n",
              "    </tr>\n",
              "    <tr>\n",
              "      <th>2</th>\n",
              "      <td>super worth it ang ganda Sombra grabi order na...</td>\n",
              "      <td>5</td>\n",
              "    </tr>\n",
              "    <tr>\n",
              "      <th>3</th>\n",
              "      <td>ganda po salamat</td>\n",
              "      <td>5</td>\n",
              "    </tr>\n",
              "    <tr>\n",
              "      <th>4</th>\n",
              "      <td>maayos pagkadeliver maganda den sya</td>\n",
              "      <td>5</td>\n",
              "    </tr>\n",
              "  </tbody>\n",
              "</table>\n",
              "</div>\n",
              "    <div class=\"colab-df-buttons\">\n",
              "\n",
              "  <div class=\"colab-df-container\">\n",
              "    <button class=\"colab-df-convert\" onclick=\"convertToInteractive('df-8269f667-b1cf-4249-a2da-2423448b94d3')\"\n",
              "            title=\"Convert this dataframe to an interactive table.\"\n",
              "            style=\"display:none;\">\n",
              "\n",
              "  <svg xmlns=\"http://www.w3.org/2000/svg\" height=\"24px\" viewBox=\"0 -960 960 960\">\n",
              "    <path d=\"M120-120v-720h720v720H120Zm60-500h600v-160H180v160Zm220 220h160v-160H400v160Zm0 220h160v-160H400v160ZM180-400h160v-160H180v160Zm440 0h160v-160H620v160ZM180-180h160v-160H180v160Zm440 0h160v-160H620v160Z\"/>\n",
              "  </svg>\n",
              "    </button>\n",
              "\n",
              "  <style>\n",
              "    .colab-df-container {\n",
              "      display:flex;\n",
              "      gap: 12px;\n",
              "    }\n",
              "\n",
              "    .colab-df-convert {\n",
              "      background-color: #E8F0FE;\n",
              "      border: none;\n",
              "      border-radius: 50%;\n",
              "      cursor: pointer;\n",
              "      display: none;\n",
              "      fill: #1967D2;\n",
              "      height: 32px;\n",
              "      padding: 0 0 0 0;\n",
              "      width: 32px;\n",
              "    }\n",
              "\n",
              "    .colab-df-convert:hover {\n",
              "      background-color: #E2EBFA;\n",
              "      box-shadow: 0px 1px 2px rgba(60, 64, 67, 0.3), 0px 1px 3px 1px rgba(60, 64, 67, 0.15);\n",
              "      fill: #174EA6;\n",
              "    }\n",
              "\n",
              "    .colab-df-buttons div {\n",
              "      margin-bottom: 4px;\n",
              "    }\n",
              "\n",
              "    [theme=dark] .colab-df-convert {\n",
              "      background-color: #3B4455;\n",
              "      fill: #D2E3FC;\n",
              "    }\n",
              "\n",
              "    [theme=dark] .colab-df-convert:hover {\n",
              "      background-color: #434B5C;\n",
              "      box-shadow: 0px 1px 3px 1px rgba(0, 0, 0, 0.15);\n",
              "      filter: drop-shadow(0px 1px 2px rgba(0, 0, 0, 0.3));\n",
              "      fill: #FFFFFF;\n",
              "    }\n",
              "  </style>\n",
              "\n",
              "    <script>\n",
              "      const buttonEl =\n",
              "        document.querySelector('#df-8269f667-b1cf-4249-a2da-2423448b94d3 button.colab-df-convert');\n",
              "      buttonEl.style.display =\n",
              "        google.colab.kernel.accessAllowed ? 'block' : 'none';\n",
              "\n",
              "      async function convertToInteractive(key) {\n",
              "        const element = document.querySelector('#df-8269f667-b1cf-4249-a2da-2423448b94d3');\n",
              "        const dataTable =\n",
              "          await google.colab.kernel.invokeFunction('convertToInteractive',\n",
              "                                                    [key], {});\n",
              "        if (!dataTable) return;\n",
              "\n",
              "        const docLinkHtml = 'Like what you see? Visit the ' +\n",
              "          '<a target=\"_blank\" href=https://colab.research.google.com/notebooks/data_table.ipynb>data table notebook</a>'\n",
              "          + ' to learn more about interactive tables.';\n",
              "        element.innerHTML = '';\n",
              "        dataTable['output_type'] = 'display_data';\n",
              "        await google.colab.output.renderOutput(dataTable, element);\n",
              "        const docLink = document.createElement('div');\n",
              "        docLink.innerHTML = docLinkHtml;\n",
              "        element.appendChild(docLink);\n",
              "      }\n",
              "    </script>\n",
              "  </div>\n",
              "\n",
              "\n",
              "<div id=\"df-589a0304-70b0-48ed-97fd-9c22af134af1\">\n",
              "  <button class=\"colab-df-quickchart\" onclick=\"quickchart('df-589a0304-70b0-48ed-97fd-9c22af134af1')\"\n",
              "            title=\"Suggest charts\"\n",
              "            style=\"display:none;\">\n",
              "\n",
              "<svg xmlns=\"http://www.w3.org/2000/svg\" height=\"24px\"viewBox=\"0 0 24 24\"\n",
              "     width=\"24px\">\n",
              "    <g>\n",
              "        <path d=\"M19 3H5c-1.1 0-2 .9-2 2v14c0 1.1.9 2 2 2h14c1.1 0 2-.9 2-2V5c0-1.1-.9-2-2-2zM9 17H7v-7h2v7zm4 0h-2V7h2v10zm4 0h-2v-4h2v4z\"/>\n",
              "    </g>\n",
              "</svg>\n",
              "  </button>\n",
              "\n",
              "<style>\n",
              "  .colab-df-quickchart {\n",
              "      --bg-color: #E8F0FE;\n",
              "      --fill-color: #1967D2;\n",
              "      --hover-bg-color: #E2EBFA;\n",
              "      --hover-fill-color: #174EA6;\n",
              "      --disabled-fill-color: #AAA;\n",
              "      --disabled-bg-color: #DDD;\n",
              "  }\n",
              "\n",
              "  [theme=dark] .colab-df-quickchart {\n",
              "      --bg-color: #3B4455;\n",
              "      --fill-color: #D2E3FC;\n",
              "      --hover-bg-color: #434B5C;\n",
              "      --hover-fill-color: #FFFFFF;\n",
              "      --disabled-bg-color: #3B4455;\n",
              "      --disabled-fill-color: #666;\n",
              "  }\n",
              "\n",
              "  .colab-df-quickchart {\n",
              "    background-color: var(--bg-color);\n",
              "    border: none;\n",
              "    border-radius: 50%;\n",
              "    cursor: pointer;\n",
              "    display: none;\n",
              "    fill: var(--fill-color);\n",
              "    height: 32px;\n",
              "    padding: 0;\n",
              "    width: 32px;\n",
              "  }\n",
              "\n",
              "  .colab-df-quickchart:hover {\n",
              "    background-color: var(--hover-bg-color);\n",
              "    box-shadow: 0 1px 2px rgba(60, 64, 67, 0.3), 0 1px 3px 1px rgba(60, 64, 67, 0.15);\n",
              "    fill: var(--button-hover-fill-color);\n",
              "  }\n",
              "\n",
              "  .colab-df-quickchart-complete:disabled,\n",
              "  .colab-df-quickchart-complete:disabled:hover {\n",
              "    background-color: var(--disabled-bg-color);\n",
              "    fill: var(--disabled-fill-color);\n",
              "    box-shadow: none;\n",
              "  }\n",
              "\n",
              "  .colab-df-spinner {\n",
              "    border: 2px solid var(--fill-color);\n",
              "    border-color: transparent;\n",
              "    border-bottom-color: var(--fill-color);\n",
              "    animation:\n",
              "      spin 1s steps(1) infinite;\n",
              "  }\n",
              "\n",
              "  @keyframes spin {\n",
              "    0% {\n",
              "      border-color: transparent;\n",
              "      border-bottom-color: var(--fill-color);\n",
              "      border-left-color: var(--fill-color);\n",
              "    }\n",
              "    20% {\n",
              "      border-color: transparent;\n",
              "      border-left-color: var(--fill-color);\n",
              "      border-top-color: var(--fill-color);\n",
              "    }\n",
              "    30% {\n",
              "      border-color: transparent;\n",
              "      border-left-color: var(--fill-color);\n",
              "      border-top-color: var(--fill-color);\n",
              "      border-right-color: var(--fill-color);\n",
              "    }\n",
              "    40% {\n",
              "      border-color: transparent;\n",
              "      border-right-color: var(--fill-color);\n",
              "      border-top-color: var(--fill-color);\n",
              "    }\n",
              "    60% {\n",
              "      border-color: transparent;\n",
              "      border-right-color: var(--fill-color);\n",
              "    }\n",
              "    80% {\n",
              "      border-color: transparent;\n",
              "      border-right-color: var(--fill-color);\n",
              "      border-bottom-color: var(--fill-color);\n",
              "    }\n",
              "    90% {\n",
              "      border-color: transparent;\n",
              "      border-bottom-color: var(--fill-color);\n",
              "    }\n",
              "  }\n",
              "</style>\n",
              "\n",
              "  <script>\n",
              "    async function quickchart(key) {\n",
              "      const quickchartButtonEl =\n",
              "        document.querySelector('#' + key + ' button');\n",
              "      quickchartButtonEl.disabled = true;  // To prevent multiple clicks.\n",
              "      quickchartButtonEl.classList.add('colab-df-spinner');\n",
              "      try {\n",
              "        const charts = await google.colab.kernel.invokeFunction(\n",
              "            'suggestCharts', [key], {});\n",
              "      } catch (error) {\n",
              "        console.error('Error during call to suggestCharts:', error);\n",
              "      }\n",
              "      quickchartButtonEl.classList.remove('colab-df-spinner');\n",
              "      quickchartButtonEl.classList.add('colab-df-quickchart-complete');\n",
              "    }\n",
              "    (() => {\n",
              "      let quickchartButtonEl =\n",
              "        document.querySelector('#df-589a0304-70b0-48ed-97fd-9c22af134af1 button');\n",
              "      quickchartButtonEl.style.display =\n",
              "        google.colab.kernel.accessAllowed ? 'block' : 'none';\n",
              "    })();\n",
              "  </script>\n",
              "</div>\n",
              "    </div>\n",
              "  </div>\n"
            ],
            "application/vnd.google.colaboratory.intrinsic+json": {
              "type": "dataframe",
              "variable_name": "dataset",
              "summary": "{\n  \"name\": \"dataset\",\n  \"rows\": 1001,\n  \"fields\": [\n    {\n      \"column\": \"review\",\n      \"properties\": {\n        \"dtype\": \"string\",\n        \"num_unique_values\": 914,\n        \"samples\": [\n          \"mabilis lang dumating. naka sealed pa ng magagos maliban sa mismong sealed ng nail polish. ang gabda ng kulay at nabili ko lang for only 5 pesos!\",\n          \"i ordered three different shirts, only of them arrived here correctly. one is in wrong size and the other is not the color i ordered and wrong size too.!!!!\",\n          \"The speaker is working and the quality of the sound is very nice. I don't know why but I didn't get the design that I want. Instead of Army Green, I got Grey but its still good. The packaging is also nice. You should buy this product. It is worth it. \"\n        ],\n        \"semantic_type\": \"\",\n        \"description\": \"\"\n      }\n    },\n    {\n      \"column\": \"rating\",\n      \"properties\": {\n        \"dtype\": \"number\",\n        \"std\": 1,\n        \"min\": 1,\n        \"max\": 5,\n        \"num_unique_values\": 5,\n        \"samples\": [\n          4,\n          3,\n          2\n        ],\n        \"semantic_type\": \"\",\n        \"description\": \"\"\n      }\n    }\n  ]\n}"
            }
          },
          "metadata": {},
          "execution_count": 156
        }
      ]
    },
    {
      "cell_type": "code",
      "source": [
        "mask = (dataset['rating'] > 0 ) & (dataset['rating'] < 4)\n",
        "column_name = 'rating'\n",
        "dataset.loc[mask, column_name] = 0\n",
        "\n",
        "mask = (dataset['rating'] > 3 ) & (dataset['rating'] < 6)\n",
        "column_name = 'rating'\n",
        "dataset.loc[mask, column_name] = 1\n"
      ],
      "metadata": {
        "id": "QeGxkiOYnYHb"
      },
      "execution_count": 157,
      "outputs": []
    },
    {
      "cell_type": "markdown",
      "source": [
        "## 1. Tokenize the data"
      ],
      "metadata": {
        "id": "3En4gTR8MRXG"
      }
    },
    {
      "cell_type": "code",
      "source": [
        "# answer here\n",
        "\n",
        "# Get the reviews from the text column\n",
        "reviews = dataset['review'].tolist()\n",
        "\n",
        "tokenizer = Tokenizer(oov_token=\"<OOV>\")\n",
        "tokenizer.fit_on_texts(reviews)\n",
        "\n",
        "word_index = tokenizer.word_index\n",
        "print(len(word_index))\n",
        "print(word_index)"
      ],
      "metadata": {
        "id": "Q5WD0HudMUFr",
        "colab": {
          "base_uri": "https://localhost:8080/"
        },
        "outputId": "7366b752-1eb1-47fa-84b3-f83f99fcca7f"
      },
      "execution_count": 158,
      "outputs": [
        {
          "output_type": "stream",
          "name": "stdout",
          "text": [
            "3537\n",
            "{'<OOV>': 1, 'na': 2, 'the': 3, 'ko': 4, 'i': 5, 'ang': 6, 'sa': 7, 'yung': 8, 'and': 9, 'ng': 10, 'lang': 11, 'it': 12, 'is': 13, 'po': 14, 'naman': 15, 'at': 16, 'seller': 17, 'to': 18, 'you': 19, 'order': 20, 'for': 21, 'not': 22, 'pero': 23, 'maganda': 24, 'pa': 25, 'hindi': 26, 'but': 27, 'sya': 28, 'good': 29, 'item': 30, 'thank': 31, 'a': 32, 'dumating': 33, 'sana': 34, 'so': 35, 'ung': 36, 'product': 37, 'my': 38, 'color': 39, 'this': 40, 'size': 41, 'quality': 42, 'was': 43, 'delivery': 44, 'di': 45, 'ok': 46, 'din': 47, 'may': 48, 'of': 49, 'its': 50, 'ako': 51, 'in': 52, 'very': 53, 'nyo': 54, 'lng': 55, 'price': 56, 'mga': 57, 'ganda': 58, 'time': 59, 'that': 60, 'working': 61, 'kasi': 62, 'black': 63, 'me': 64, 'buy': 65, 'items': 66, 'siya': 67, 'sobrang': 68, 'will': 69, 'white': 70, 'well': 71, 'ordered': 72, 'with': 73, 'kulay': 74, 'kaso': 75, '2': 76, 'as': 77, 'nice': 78, 'fast': 79, 'manipis': 80, 'okay': 81, '1': 82, 'lazada': 83, 'kung': 84, 'nya': 85, 'on': 86, 'just': 87, 'thanks': 88, 'nmn': 89, 'kaya': 90, 'are': 91, 'inorder': 92, 'what': 93, 'or': 94, 'much': 95, 'wrong': 96, 'tela': 97, 'salamat': 98, '3': 99, 'wala': 100, 'all': 101, 's': 102, 'like': 103, 'isa': 104, 'para': 105, 'mali': 106, 'one': 107, 'kayo': 108, 'pinadala': 109, 'super': 110, 'nga': 111, 'received': 112, 'have': 113, 'pala': 114, 'love': 115, \"it's\": 116, 'packed': 117, 'nung': 118, 'gray': 119, 'only': 120, 'mura': 121, 'maayos': 122, 'kahit': 123, 'pang': 124, '5': 125, 'n': 126, 'disappointed': 127, 'mabilis': 128, 'yun': 129, 'deliver': 130, 'tapos': 131, 'mo': 132, 'when': 133, 'they': 134, 'talaga': 135, 'iba': 136, 'isang': 137, 'from': 138, 'worth': 139, 'nag': 140, 'no': 141, 'ito': 142, 'sayang': 143, 'tama': 144, 'walang': 145, 'agad': 146, 'take': 147, 'mouse': 148, 'medium': 149, 'xl': 150, 'medyo': 151, 'pag': 152, 'your': 153, 'nman': 154, 'again': 155, 'wrap': 156, 'kong': 157, 'packaging': 158, 'box': 159, 'bubble': 160, 'be': 161, '4': 162, 'delivered': 163, 'large': 164, 'shipping': 165, 'got': 166, 'bakit': 167, 'if': 168, 'sakin': 169, 'small': 170, 'store': 171, 'eh': 172, 'satisfied': 173, 'sulit': 174, 'check': 175, 'gumagana': 176, 'sira': 177, 'dahil': 178, 'kulang': 179, 'first': 180, 'ulit': 181, 'q': 182, 'light': 183, 'still': 184, 'yet': 185, 'really': 186, 'mas': 187, 'mask': 188, 'next': 189, 'review': 190, 'brown': 191, 'rin': 192, 'also': 193, 'damage': 194, 'star': 195, 'up': 196, 'too': 197, 'keyboard': 198, 'bilis': 199, 'wag': 200, 'can': 201, 'great': 202, 'same': 203, 'do': 204, 'yan': 205, 'nipis': 206, 'arrived': 207, 'refund': 208, 'stars': 209, 'un': 210, 'nila': 211, 'niya': 212, 'ka': 213, 'maliit': 214, 'condition': 215, 'than': 216, 'naka': 217, 'man': 218, 'ibang': 219, 'ba': 220, '10': 221, 'other': 222, 'more': 223, 'grey': 224, 'kc': 225, 'pink': 226, 'binigay': 227, 'nasa': 228, 'rider': 229, 'please': 230, 'plastic': 231, 'picture': 232, 'blue': 233, 'days': 234, 'even': 235, 'legit': 236, 'bago': 237, 'gusto': 238, 'thankyou': 239, 'pera': 240, 'niyo': 241, 'courier': 242, 'get': 243, 'ay': 244, 'dapat': 245, 'ano': 246, 'nalang': 247, 'am': 248, 'shipped': 249, 'far': 250, 'laptop': 251, 'now': 252, 'sakto': 253, 'kuya': 254, 'mag': 255, 'lahat': 256, 'pwede': 257, 'package': 258, 'colors': 259, 'affordable': 260, 'tried': 261, 'since': 262, 'here': 263, 't': 264, \"i'm\": 265, 'sorry': 266, 'xa': 267, 'then': 268, \"don't\": 269, 'there': 270, 'know': 271, 'recommend': 272, 'see': 273, 'nio': 274, 'kay': 275, 'namin': 276, 'complete': 277, 'shop': 278, 'nagustuhan': 279, 'use': 280, 'ma': 281, 'd': 282, 'hina': 283, 'sabi': 284, 'oorder': 285, 'tagal': 286, 'nakaka': 287, 'hope': 288, 'dito': 289, 'has': 290, 'charger': 291, 'im': 292, 'namn': 293, 'happy': 294, 'should': 295, 'though': 296, 'products': 297, 'give': 298, 'nabili': 299, 'both': 300, 'shade': 301, 'kase': 302, 'masyado': 303, 'we': 304, 'which': 305, 'back': 306, 'charge': 307, 'goods': 308, 'phone': 309, 'think': 310, 'overall': 311, 'nakalagay': 312, 'ayos': 313, 'because': 314, 'safe': 315, 'long': 316, 'looks': 317, 'an': 318, 'need': 319, 'purchase': 320, 'itself': 321, 'poor': 322, 'free': 323, 'ganun': 324, 'u': 325, 'always': 326, 'video': 327, 'ni': 328, 'magtagal': 329, 'money': 330, 'pangit': 331, 'return': 332, 'try': 333, 'muna': 334, 'cable': 335, 'however': 336, 'set': 337, 'fit': 338, '9': 339, 'although': 340, 'expected': 341, 'after': 342, 'sent': 343, 'skin': 344, 'kau': 345, 'dark': 346, 'packs': 347, 'inyo': 348, 'last': 349, 'green': 350, 'hassle': 351, 'baka': 352, 'message': 353, 'tas': 354, 'old': 355, 'susunod': 356, 'chat': 357, 'recommended': 358, 'akala': 359, 'were': 360, 'kasya': 361, 'powerbank': 362, 'these': 363, 'out': 364, 'sure': 365, 'right': 366, 'works': 367, 'different': 368, 'makapal': 369, 'before': 370, 'akong': 371, 'basta': 372, 'instead': 373, 'amoy': 374, 'tol': 375, 'pants': 376, 'xxl': 377, 'yong': 378, 'nang': 379, 'madaling': 380, 'malaki': 381, 'expect': 382, 'bought': 383, 'lagi': 384, 'yupi': 385, 'oks': 386, 'malakas': 387, 'si': 388, 'cheap': 389, 'anyway': 390, 'e': 391, 'ata': 392, 'bat': 393, 'una': 394, 'tumagal': 395, 'ganito': 396, 'hahaha': 397, 'puro': 398, 'nkaka': 399, 'pls': 400, 'gave': 401, '🏾': 402, 'compared': 403, 'how': 404, 'packaged': 405, 'immediately': 406, 'c': 407, 'nka': 408, 'make': 409, 'usb': 410, 'lights': 411, 'anak': 412, 'speaker': 413, 'kami': 414, 'bag': 415, 'sale': 416, 'daw': 417, 'acid': 418, 'shorts': 419, 'liit': 420, 'panget': 421, 'kala': 422, 'aq': 423, 'nadeliver': 424, 'kapag': 425, '2nd': 426, 'parcel': 427, 'photo': 428, 'related': 429, 'been': 430, 'charging': 431, 'sainyo': 432, 'quite': 433, 'want': 434, 'already': 435, 'dun': 436, 'binili': 437, 'akin': 438, 'ngayon': 439, 'gumana': 440, 'description': 441, 'send': 442, 'maraming': 443, 'late': 444, 'about': 445, 'sealed': 446, 'thought': 447, 'meron': 448, 'did': 449, 'fully': 450, 'using': 451, 'full': 452, 'tong': 453, 'sound': 454, 'brand': 455, \"didn't\": 456, 'm': 457, 'type': 458, 'way': 459, 'rgb': 460, 'some': 461, 'o': 462, 'nail': 463, 'hoodie': 464, 'maluwang': 465, 'pla': 466, 'dami': 467, 'tahi': 468, 'parehas': 469, 'bumili': 470, 'cute': 471, 'dismaya': 472, 'mahal': 473, 'problema': 474, 'presyo': 475, 'data': 476, 'tnx': 477, 'handling': 478, 'had': 479, 'napaka': 480, 'tsaka': 481, 'mismong': 482, 'nlng': 483, 'grabe': 484, 'mukhang': 485, 'customer': 486, 'ship': 487, 'gamit': 488, 'ginamit': 489, 'alam': 490, 'sila': 491, 'fine': 492, 'nasunod': 493, 'problem': 494, 'dating': 495, 'loob': 496, 'sobra': 497, 'nito': 498, 'paid': 499, 'kumita': 500, 'face': 501, 'bless': 502, 'quantity': 503, 'orders': 504, 'definitely': 505, 'low': 506, 'dalawa': 507, 'them': 508, 'masyadong': 509, 'nia': 510, 'open': 511, 'waste': 512, 'smooth': 513, 'properly': 514, 'design': 515, 'does': 516, 'used': 517, \"doesn't\": 518, 'pad': 519, 'katulad': 520, 'she': 521, 'madami': 522, 'off': 523, 'ooooooookkkkkkkkkkkk': 524, 'would': 525, 'vga': 526, 'keys': 527, 'padin': 528, 'tunog': 529, 'dalawang': 530, 'go': 531, 'true': 532, 'sizes': 533, 'khaki': 534, 'pack': 535, 'jacket': 536, 'facemask': 537, 'saka': 538, 'week': 539, 'ninyo': 540, 'tested': 541, 'soon': 542, 'who': 543, 'by': 544, 'work': 545, 'dissapointed': 546, 'nagamit': 547, 'matibay': 548, 'masira': 549, 'correct': 550, 'ilang': 551, 'update': 552, 'cp': 553, 'itong': 554, 'tao': 555, 'god': 556, 'thing': 557, 'hnd': 558, 'another': 559, 'maybe': 560, 'cover': 561, 'bibili': 562, 'broken': 563, 'kita': 564, 'basag': 565, 'receive': 566, 'bank': 567, 'ginagamit': 568, 'device': 569, 'bili': 570, 'new': 571, 'honest': 572, 'monitor': 573, '12': 574, 'music': 575, 'reference': 576, 'times': 577, 'fan': 578, '6': 579, 'bit': 580, 'took': 581, 'change': 582, 'button': 583, 'bad': 584, 'care': 585, 'say': 586, 'bet': 587, 'kya': 588, 'haha': 589, 'wla': 590, 'surely': 591, 'december': 592, 'pencil': 593, '7': 594, 'strechable': 595, 'den': 596, 'short': 597, 'pcs': 598, 'diko': 599, '3pcs': 600, 'post': 601, 'nmin': 602, 'today': 603, 'he': 604, 'call': 605, 'hopefully': 606, 'nong': 607, 'lalagyan': 608, \"i've\": 609, 'buti': 610, 'nadin': 611, 'purpose': 612, 'giving': 613, 'tho': 614, 'matagal': 615, 'oppo': 616, 'issue': 617, 'pc': 618, 'araw': 619, 'pinili': 620, 'slightly': 621, 'weeks': 622, 'dont': 623, 'anong': 624, 'mukha': 625, 'reviews': 626, 'dineliver': 627, 'kapal': 628, 'yellow': 629, 'side': 630, 'ibibigay': 631, 'takip': 632, 'ayaw': 633, 'came': 634, 'never': 635, 'actually': 636, 'dn': 637, 'bayad': 638, 'khit': 639, 'placed': 640, '36': 641, 'stock': 642, 'responsive': 643, 'nitong': 644, 'bang': 645, 'kaung': 646, 'pra': 647, 'power': 648, 'delay': 649, 'authentic': 650, 'tubig': 651, 'ganyan': 652, 'best': 653, 'estimated': 654, 'alright': 655, 'sensitive': 656, 'sensor': 657, 'left': 658, 'date': 659, 'fans': 660, 'height': 661, 'replacement': 662, 'ndi': 663, 'bahala': 664, 'turn': 665, 'considering': 666, '18': 667, 'plus': 668, 'ever': 669, 'purchased': 670, 'nothing': 671, 'normal': 672, 'response': 673, 'everything': 674, 'expecting': 675, 'why': 676, 'mejo': 677, 'kids': 678, 'pati': 679, 'parang': 680, 'second': 681, 'earphone': 682, 'buy1': 683, 'tpos': 684, 'nasira': 685, 'perfect': 686, \"haven't\": 687, 'paki': 688, 'sace': 689, 'lady': 690, 'eyebrow': 691, 'feb': 692, 'tlga': 693, 'shirt': 694, 'butas': 695, 'umorder': 696, 'cut': 697, 'zipper': 698, 'kf94': 699, 'slmat': 700, 'sir': 701, 'guy': 702, 'uulit': 703, 'madali': 704, 'nakuha': 705, 'sad': 706, 'kaloka': 707, 'pong': 708, 'sim': 709, 'speed': 710, \"there's\": 711, 'benta': 712, 'ky': 713, 'available': 714, 'better': 715, 'concern': 716, 'earphones': 717, 'mahina': 718, 'btw': 719, 'guys': 720, 'android': 721, 'syang': 722, 'kuyang': 723, 'ayus': 724, 'hehe': 725, 'minsan': 726, 'stand': 727, '🏻': 728, 'pro': 729, 'crumpled': 730, 'damaged': 731, 'buyer': 732, 'cord': 733, 'cables': 734, 'violet': 735, 'disappoint': 736, 'excellent': 737, 'keri': 738, 'tiwala': 739, 'less': 740, 'kasama': 741, 'ginawa': 742, 'mong': 743, 'kaka': 744, 'gamitin': 745, 'must': 746, 'magkaiba': 747, 'messaged': 748, 'missing': 749, 'accommodating': 750, 'nakarating': 751, 'sna': 752, 'disappointing': 753, 'checked': 754, 'eto': 755, 'pano': 756, 'kinuha': 757, '75': 758, 'p': 759, 'don': 760, 'wrapped': 761, 'cell': 762, 'nlalaman': 763, 'fullcharge': 764, 'airdots': 765, 'malinaw': 766, 'under': 767, 'bukas': 768, 'naging': 769, 'tlaga': 770, 'suki': 771, 'waiting': 772, 'uli': 773, 'extra': 774, 'able': 775, 'rapoo': 776, 'simple': 777, 'classy': 778, 'dent': 779, 'highly': 780, 'sometimes': 781, 'says': 782, 'service': 783, 'nagana': 784, 'job': 785, 'screen': 786, 'our': 787, 'wait': 788, 'output': 789, 'mine': 790, 'functional': 791, 'earlier': 792, 'tissue': 793, 'turns': 794, 'double': 795, 'cguro': 796, 'thumbs': 797, 'rating': 798, 'charged': 799, 'mean': 800, \"you'll\": 801, 'fix': 802, 'tv': 803, 'unlike': 804, 'bigla': 805, 'ambilis': 806, 'depende': 807, 'iingatan': 808, 'few': 809, 'dead': 810, 'gift': 811, 'option': 812, 'number': 813, 'saya': 814, 'okey': 815, 'ph': 816, 'dati': 817, 'apply': 818, 'watery': 819, 'red': 820, 'put': 821, 'look': 822, 'style': 823, 'blush': 824, \"i'd\": 825, 'oily': 826, 'scam': 827, 'ayusin': 828, 'creamy': 829, 'seems': 830, 'parin': 831, 'pimples': 832, 'brow': 833, 'layo': 834, 'tshirt': 835, 'fabric': 836, 'malambot': 837, 'shirts': 838, 'cotton': 839, 'maluwag': 840, 'pwd': 841, 'natahi': 842, 'saktong': 843, 'sken': 844, '34': 845, 'nakakainis': 846, 'skinny': 847, 'tamang': 848, 'l': 849, 'prang': 850, 'dissappointed': 851, 'photos': 852, 'peach': 853, 'ply': 854, 'ska': 855, 'nko': 856, 'madikit': 857, 'inexpect': 858, '3days': 859, 'waterproof': 860, 'omorder': 861, 'jan': 862, 'regarding': 863, 'palang': 864, 'poh': 865, 'mint': 866, 'neto': 867, 'actual': 868, 'expiration': 869, 'gomo': 870, '15': 871, 'unli': 872, 'stop': 873, 'into': 874, 'texts': 875, 'signal': 876, 'packing': 877, 'three': 878, 'his': 879, 'internet': 880, 'little': 881, 'dissapoint': 882, 'pareho': 883, 'ganon': 884, 'waist': 885, 'bkit': 886, 'qng': 887, 'tablet': 888, 'youtube': 889, 'boxes': 890, 'coz': 891, 'follow': 892, 'hoping': 893, 'happen': 894, 'nasan': 895, '2pcs': 896, 'irefund': 897, 'opened': 898, 'nako': 899, 'sha': 900, 'samsung': 901, 'beses': 902, 'october': 903, 'buyers': 904, 'without': 905, 'being': 906, 'fee': 907, 'totoong': 908, 'length': 909, 'anyways': 910, 'cheated': 911, 'recieved': 912, 'worry': 913, 'karma': 914, 'around': 915, 'kapwa': 916, 'hold': 917, 'five': 918, 'name': 919, '2021': 920, 'beautiful': 921, 'against': 922, 'choice': 923, 'random': 924, 'request': 925, 'itsura': 926, 'confusing': 927, 'nyong': 928, 'buhay': 929, 'reply': 930, 'parts': 931, 'down': 932, 'least': 933, 'laki': 934, 'clear': 935, 'rubber': 936, 'personal': 937, 'pesos': 938, 'ibalik': 939, 'pinaka': 940, 'replace': 941, 'palpak': 942, 'mabait': 943, 'w': 944, 'day': 945, '8': 946, 'hours': 947, 'sales': 948, 'klaseng': 949, 'ibenta': 950, 'ngaun': 951, 'napakatagal': 952, 'maling': 953, 'yes': 954, '30': 955, 'naibigay': 956, 'pinag': 957, 'lalo': 958, 'safely': 959, 'hahahaha': 960, 'space': 961, 'exact': 962, 'pic': 963, 'parcels': 964, 'leaking': 965, 'cause': 966, 'pods': 967, 'leak': 968, 'gonna': 969, 'palitan': 970, 'online': 971, 'nadisappoint': 972, 'budol': 973, 'friends': 974, 'heavy': 975, 'regular': 976, 'comfy': 977, 'nameet': 978, 'prefer': 979, 'cos': 980, 'deformed': 981, 'kaunting': 982, 'gmitin': 983, 'tinry': 984, 'cursor': 985, 'annoying': 986, 'click': 987, 'nareceive': 988, 'feel': 989, 'discription': 990, 'hays': 991, '3rd': 992, 'automatically': 993, \"won't\": 994, 'functioning': 995, 'husto': 996, 'text': 997, 'display': 998, \"can't\": 999, 'find': 1000, 'sinubukan': 1001, 'kayong': 1002, 'trying': 1003, 'gaming': 1004, 'loves': 1005, 'system': 1006, '14': 1007, 'made': 1008, 'magagamit': 1009, 'enough': 1010, 'agreed': 1011, 'part': 1012, 'buying': 1013, 'bright': 1014, 'makes': 1015, 'punit': 1016, 'close': 1017, 'units': 1018, '1st': 1019, 'two': 1020, 'any': 1021, '32': 1022, 'quick': 1023, 'maaga': 1024, 'totally': 1025, 'chineck': 1026, 'blurry': 1027, 'brands': 1028, 'advertised': 1029, 'looking': 1030, 'dina': 1031, 'magamit': 1032, 'anymore': 1033, 'syempre': 1034, 'hehehhe': 1035, 'salamaaaaaaaaaat': 1036, 'base': 1037, 'tell': 1038, 'buttons': 1039, 'hirap': 1040, 'night': 1041, 'something': 1042, 'poorly': 1043, 'easy': 1044, 'link': 1045, 'etc': 1046, 'frustrating': 1047, 'sold': 1048, 'voucher': 1049, 'until': 1050, 'ive': 1051, 'cant': 1052, 'contacted': 1053, 'doesnt': 1054, 'glitch': 1055, 'unresponsive': 1056, 'sounds': 1057, 'keep': 1058, 'lakas': 1059, 'halaga': 1060, 'stain': 1061, 'sabog': 1062, 'advance': 1063, 'headset': 1064, 'take1': 1065, 'uulitin': 1066, 'polish': 1067, 'formula': 1068, 'morena': 1069, 'bench': 1070, 'lasting': 1071, 'excited': 1072, 'transaction': 1073, 'almost': 1074, 'remove': 1075, 'myself': 1076, 'upon': 1077, 'pinkflash': 1078, 'tatlo': 1079, 'lipstick': 1080, '1bag': 1081, 'ads': 1082, 'nakakadismaya': 1083, 'dto': 1084, 'natanggap': 1085, 'contour': 1086, 'highlighter': 1087, 'darker': 1088, 'kumpleto': 1089, 'kapatid': 1090, 'ipadala': 1091, 'muka': 1092, 'ina': 1093, 'tuloy': 1094, 'mganda': 1095, 'wearing': 1096, 'high': 1097, 'doesn': 1098, 'matanggal': 1099, 'tsk': 1100, 'mabura': 1101, 'over': 1102, 'pay': 1103, '11': 1104, 'sizing': 1105, 'sikip': 1106, 'smaller': 1107, 'compare': 1108, 'kso': 1109, 'sama': 1110, 'ah': 1111, 'babae': 1112, 'expectation': 1113, 'model': 1114, 'accurate': 1115, 'ibigay': 1116, 'gantong': 1117, 'asked': 1118, 'kaau': 1119, 'bewang': 1120, 'stretchable': 1121, 'bitin': 1122, 'pagkakatahi': 1123, 'kelan': 1124, 'nxt': 1125, 'legs': 1126, 'makabenta': 1127, 'ipapadala': 1128, 'kind': 1129, 'sau': 1130, 'nakapag': 1131, 'medjo': 1132, 'napakanipis': 1133, 'damit': 1134, 'incomplete': 1135, 'kesa': 1136, 'ganto': 1137, '2xl': 1138, 'jungle': 1139, 'cardinal': 1140, 'rose': 1141, 'tali': 1142, 'nakakadisappoint': 1143, 'nadikit': 1144, '4ply': 1145, 'bait': 1146, 'sinulid': 1147, 'salita': 1148, 'gawa': 1149, 'unsatisfied': 1150, 'hehehe': 1151, 'dingding': 1152, 'halatang': 1153, 'ginupit': 1154, 'brick': 1155, 'wall': 1156, '2loy': 1157, '12pcs': 1158, '60': 1159, 'bedroom': 1160, '20': 1161, 'mbps': 1162, 'download': 1163, 'nabubuksan': 1164, 'uwan': 1165, 'finally': 1166, 'ready': 1167, 'app': 1168, 'smart': 1169, 'current': 1170, 'outside': 1171, 'seen': 1172, 'noticed': 1173, 'turned': 1174, 'suits': 1175, 'connection': 1176, \"si'ya\": 1177, 'compatible': 1178, 'phones': 1179, 'keln': 1180, 'dumami': 1181, 'kaasar': 1182, 'iadjust': 1183, 'cellphone': 1184, 'wanted': 1185, 'masakit': 1186, 'neck': 1187, 'ibaba': 1188, 'anik': 1189, 'nilagay': 1190, 'ayun': 1191, 'apat': 1192, 'useful': 1193, 'options': 1194, '5pcs': 1195, 'darating': 1196, 'nonsense': 1197, 'policy': 1198, 'magkano': 1199, '14p': 1200, 'scratches': 1201, 'returned': 1202, 'paano': 1203, 'wow': 1204, 'deal': 1205, 'ligth': 1206, 'ty': 1207, 'hndi': 1208, 'slow': 1209, 'ngayong': 1210, 'secure': 1211, 'oo': 1212, 'tatlong': 1213, 'b': 1214, 'others': 1215, 'napili': 1216, 'value': 1217, 'us': 1218, 'kainis': 1219, 'binayaran': 1220, 'mapuno': 1221, 'dis': 1222, 'appointed': 1223, 'amount': 1224, 'mumurahin': 1225, 'become': 1226, 'gagamit': 1227, 'lagyan': 1228, 'atleast': 1229, 'magexpect': 1230, 'pick': 1231, 'empathetic': 1232, 'pouch': 1233, 'false': 1234, 'advertisement': 1235, 'given': 1236, 'piece': 1237, 'friend': 1238, 'didnt': 1239, 'nevertheless': 1240, 'marami': 1241, 'lapat': 1242, 'handle': 1243, 'wondering': 1244, 'makalansing': 1245, 'kng': 1246, 'resend': 1247, 'snother': 1248, 'lacking': 1249, 'mawala': 1250, 'wlang': 1251, 'malowbat': 1252, '16': 1253, '21': 1254, 'bcoz': 1255, 'while': 1256, 'come': 1257, '35': 1258, 'chinicheck': 1259, 'mgagamit': 1260, 'bnli': 1261, 'noh': 1262, '10000mah': 1263, 'malowbatt': 1264, '5000mah': 1265, 'peke': 1266, 'chinarge': 1267, 'battery': 1268, 'nakasaksak': 1269, 'percent': 1270, 'lazmall': 1271, 'branding': 1272, 'holy': 1273, 'found': 1274, 'said': 1275, 'water': 1276, 'regalo': 1277, 'nagdedeliver': 1278, 'tska': 1279, 'balik': 1280, 'ecq': 1281, '2days': 1282, 'driver': 1283, 'parehong': 1284, 'juice': 1285, 'proof': 1286, 'lasa': 1287, \"i'll\": 1288, 'pinambili': 1289, 'omg': 1290, 'pangatlong': 1291, 'recomment': 1292, 'basic': 1293, 'lexph': 1294, 'duty': 1295, 'laza': 1296, 'delightful': 1297, 'failed': 1298, 'buddy': 1299, 'gadget': 1300, 'sariling': 1301, 'hahahahaa': 1302, 'nakadikit': 1303, 'surface': 1304, 'imove': 1305, 'sumasabay': 1306, 'replaced': 1307, 'magandaaaaa': 1308, 'later': 1309, 'ipinadala': 1310, 'hour': 1311, 'mafull': 1312, 'maka': 1313, 'bottom': 1314, 'thicker': 1315, 'cb': 1316, 'hayz': 1317, 'piraso': 1318, 'cxa': 1319, 'those': 1320, 'their': 1321, 'plug': 1322, 'adapter': 1323, 'kudos': 1324, 'hdmi': 1325, 'kopa': 1326, 'adaptor': 1327, 'editing': 1328, 'support': 1329, 'displaylink': 1330, 'external': 1331, 'mismo': 1332, 'kaagad': 1333, 'feature': 1334, 'install': 1335, 'instructions': 1336, 'lenovo': 1337, 'pg': 1338, 'previous': 1339, 'cooling': 1340, 'till': 1341, 'kid': 1342, 'samin': 1343, 'dalhin': 1344, 'pretty': 1345, 'having': 1346, 'amazing': 1347, 'fragile': 1348, 'kalakas': 1349, 'hangin': 1350, 'promise': 1351, 'ambag': 1352, 'heat': 1353, 'dissipation': 1354, 'elevate': 1355, 'alone': 1356, 'direct': 1357, 'isaksak': 1358, 'awesome': 1359, 'unfortunately': 1360, 'leds': 1361, 'ilaw': 1362, 'aside': 1363, 'wish': 1364, 'pattern': 1365, 'thick': 1366, 'feels': 1367, 'takes': 1368, 'tap': 1369, 'stays': 1370, 'precise': 1371, '1star': 1372, 'saksak': 1373, 'nlang': 1374, 'andito': 1375, 'obvious': 1376, 'preferred': 1377, 'ps': 1378, 'boy': 1379, 'worst': 1380, 'defective': 1381, 'own': 1382, 'natagalan': 1383, 'picturan': 1384, 'effect': 1385, 'tae': 1386, 'bulok': 1387, 'reasons': 1388, 'connecting': 1389, 'trusted': 1390, 'll': 1391, '100': 1392, 'hi': 1393, 'godbless': 1394, 'nagmalfunction': 1395, 'ed': 1396, 'kwenta': 1397, 'maayus': 1398, 'sinira': 1399, 'qaulity': 1400, 'pweeee': 1401, 'saan': 1402, 'scroll': 1403, 'weight': 1404, 'else': 1405, 'early': 1406, 'securely': 1407, \"that's\": 1408, 'perfectly': 1409, 'kausap': 1410, 'detached': 1411, 'talagang': 1412, 'ewan': 1413, 'satisfying': 1414, 'onti': 1415, 'nadismaya': 1416, 'isend': 1417, 'hate': 1418, 'kwarto': 1419, 'discoloration': 1420, 'end': 1421, 'inyong': 1422, 'dadami': 1423, 'cracked': 1424, \"pc's\": 1425, 'result': 1426, 'forever': 1427, 'arrive': 1428, 'backlight': 1429, 've': 1430, 'starting': 1431, 'process': 1432, 'big': 1433, 'compensate': 1434, 'bluetooth': 1435, 'oki': 1436, 'magandaa': 1437, 'kinakausap': 1438, 'hahahahaaha': 1439, 'asann': 1440, 'lamann': 1441, 'fr': 1442, 'hotline': 1443, 'through': 1444, 'invalid': 1445, 'chatbot': 1446, 'inaaccurate': 1447, 'answers': 1448, 'aftersales': 1449, 'mareceive': 1450, 'hmmm': 1451, 'went': 1452, 'happened': 1453, 'audio': 1454, 'comes': 1455, 'magaan': 1456, 'loud': 1457, 'g': 1458, 'bass': 1459, 'linaw': 1460, 'murang': 1461, 'tatagal': 1462, 'tumutunog': 1463, 'terms': 1464, 'tingin': 1465, 'unang': 1466, 'testing': 1467, 'putol': 1468, 'pauwi': 1469, 'earbif': 1470, 'dedz': 1471, 'wraps': 1472, 'wont': 1473, 'lesson': 1474, 'merry': 1475, 'christmas': 1476, 'lex': 1477, 'protection': 1478, 'natawa': 1479, 'hinde': 1480, 'layers': 1481, 'needs': 1482, 'suitable': 1483, 'desired': 1484, 'consistency': 1485, 'tone': 1486, 'nakikita': 1487, 'coats': 1488, 'except': 1489, 'pede': 1490, 'kinda': 1491, 'reading': 1492, 'bagay': 1493, '》': 1494, 'mabaho': 1495, 'fastest': 1496, 'fault': 1497, 'adhesive': 1498, 'hanging': 1499, 'diffuser': 1500, '10ml': 1501, 'https': 1502, 'com': 1503, 'friendly': 1504, 'havent': 1505, 'seal': 1506, 'natuwa': 1507, \"swallowin'\": 1508, 'pride': 1509, \"standin'\": 1510, 'front': 1511, \"sayin'\": 1512, 'freedom': 1513, \"ain't\": 1514, \"nothin'\": 1515, \"missin'\": 1516, \"wishin'\": 1517, 'realized': 1518, \"sleepin'\": 1519, \"stayin'\": 1520, \"playin'\": 1521, \"leavin'\": 1522, 'birthday': 1523, 'passed': 1524, 'summer': 1525, 'liptints': 1526, 'tinted': 1527, 'glossy': 1528, 'requires': 1529, 'cheek': 1530, 'checking': 1531, 'buy1take1': 1532, 'naideliver': 1533, 'nakalabas': 1534, 'asan': 1535, 'nagiisang': 1536, 'irita': 1537, 'kulng': 1538, 'sunod': 1539, 'inyu': 1540, 'content': 1541, 'inintay': 1542, 'cancel': 1543, 'notice': 1544, 'gagawin': 1545, 'anu': 1546, 'banaman': 1547, 'concealer': 1548, 'everyday': 1549, 'beginners': 1550, 'lol': 1551, 'smell': 1552, 'smells': 1553, 'people': 1554, 'freebies': 1555, 'smudge': 1556, 'attention': 1557, 'makati': 1558, 'imbes': 1559, 'sandamakmak': 1560, 'lumabas': 1561, 'bwiset': 1562, 'natural': 1563, 'ku': 1564, 'young': 1565, 'assume': 1566, 'knew': 1567, 'favorite': 1568, 'totoo': 1569, 'buildable': 1570, 'kitang': 1571, 'kilay': 1572, 'wonderful': 1573, 'haba': 1574, 'mama': 1575, 'matte': 1576, 'deep': 1577, 'hair': 1578, 'yng': 1579, 'pagka': 1580, 'wear': 1581, 'spoolie': 1582, 'liner': 1583, 'cap': 1584, 'liquid': 1585, 'eyeshadow': 1586, 'siguro': 1587, 'nun': 1588, 'nagdeliver': 1589, 'beke': 1590, 'freebie': 1591, 'saakin': 1592, 'cheaper': 1593, 'suggest': 1594, 'ones': 1595, 'sets': 1596, 'mantsa': 1597, 'years': 1598, 'non': 1599, 'kuha': 1600, 'basahin': 1601, 'nilagari': 1602, 'litrato': 1603, 'pictures': 1604, 'saken': 1605, 'friebies': 1606, 'misleading': 1607, 'palibhasa': 1608, 'hussle': 1609, 'ibblik': 1610, 'til': 1611, 'hubby': 1612, 'cloth': 1613, 'maiksi': 1614, 'many': 1615, 'thread': 1616, 'nagbabayad': 1617, 'sirain': 1618, 'ichck': 1619, 'nkakadismaya': 1620, 'oordeer': 1621, 'umay': 1622, 'tru': 1623, 'line': 1624, 'fits': 1625, 'daming': 1626, 'luwag': 1627, \"5'9\": 1628, 'mahaba': 1629, 'suotin': 1630, 'nindot': 1631, 'itim': 1632, 'ayoko': 1633, 'straight': 1634, 'bagong': 1635, 'nilabhan': 1636, 'haist': 1637, 'dyan': 1638, 'tribal': 1639, 'jeans': 1640, 'costumer': 1641, 'cya': 1642, 'lalaki': 1643, 'dirty': 1644, 'antigas': 1645, 'papalitan': 1646, 'diba': 1647, 'marunong': 1648, 'bumasa': 1649, 'makapangloko': 1650, 'palagay': 1651, 'kupal': 1652, 'mababan': 1653, 'tandaan': 1654, 'yn': 1655, 'irerefund': 1656, 'pict': 1657, 'todo': 1658, 'surfsaya': 1659, 'apps': 1660, 'tawagan': 1661, 'sensya': 1662, 'xxxl': 1663, 'kg': 1664, 'pki': 1665, 'puede': 1666, 'tila': 1667, 'nasuot': 1668, 'nainform': 1669, 'mabuti': 1670, 'ibinigay': 1671, 'note': 1672, 'dini': 1673, 'prior': 1674, 'kailngan': 1675, 'pagbili': 1676, 'binibigay': 1677, 'yang': 1678, 'complaint': 1679, 'dilaw': 1680, 'fraud': 1681, 'dti': 1682, 'teens': 1683, '10yrs': 1684, 'orange': 1685, 'gana': 1686, 'hoodies': 1687, 'inis': 1688, 'effort': 1689, 'galaw': 1690, 'swak': 1691, 'crown': 1692, 'oversized': 1693, \"customer's\": 1694, '2022': 1695, 'rust': 1696, 'bale': 1697, 'kili': 1698, 'upset': 1699, 'youuuuuuuuuuuuuuuuuuuuuuuuuuuuuuuuuuuu': 1700, 'masks': 1701, 'thin': 1702, 'gottche': 1703, 'dusappointed': 1704, 'reject': 1705, 'harap': 1706, 'mabibili': 1707, 'aaang': 1708, 'ikli': 1709, 'nggggg': 1710, 'straaaaaap': 1711, 'faaaace': 1712, 'maaaaaaask': 1713, 'naaaaa': 1714, 'tooooooooo': 1715, 'myyyy': 1716, 'gashh': 1717, 'uhuh': 1718, 'hahah': 1719, '2ply': 1720, '9pcs': 1721, 'tayo': 1722, 'manloloko': 1723, 'nabilhan': 1724, 'idedelever': 1725, 'pintura': 1726, 'navy': 1727, 'kompleto': 1728, 'ayan': 1729, 'virus': 1730, 'emoji': 1731, 'completo': 1732, 'armygreen': 1733, 'pareha': 1734, 'akjejrjrjjfjjriro4k4jrjrjfjrjrjrjrjjtjrj': 1735, 'sombra': 1736, 'grabi': 1737, 'magsisisisis': 1738, 'sobranh': 1739, 'pagkadeliver': 1740, 'gnda': 1741, 'nagustohan': 1742, 'binigyan': 1743, 'himulmol': 1744, 'maponit': 1745, 'easily': 1746, 'torn': 1747, 'niyaumorder': 1748, '50pcs': 1749, 'pagkakabalot': 1750, 'niyatry': 1751, 'malapad': 1752, 'gandaganda': 1753, 'gandagandagandaganda': 1754, 'gandagandaganda': 1755, 'superrrrr': 1756, 'makapit': 1757, 'rough': 1758, 'mamang': 1759, 'bricks': 1760, '216pesos': 1761, '20pcs': 1762, 'umabot': 1763, 'mall': 1764, 'subra': 1765, 'dumatng': 1766, 'makaiba': 1767, 'qlay': 1768, 'magbalik': 1769, 'pti': 1770, 'ibngy': 1771, 'shiffing': 1772, 'makatikim': 1773, 'panloloko': 1774, 'nq': 1775, 'recvd': 1776, 'gud': 1777, 'npakganda': 1778, 'nkakasosyal': 1779, '30gb': 1780, 'pangamba': 1781, 'maubusan': 1782, 'updated': 1783, 'social': 1784, 'byahe': 1785, 'piso': 1786, 'wifi': 1787, 'upload': 1788, 'promo': 1789, 'mdyo': 1790, 'mhlga': 1791, 'andun': 1792, 'vrry': 1793, 'pd': 1794, 'maikog': 1795, 'ghatod': 1796, 'gjd': 1797, 'gihapon': 1798, 'nja': 1799, 'maski': 1800, 'sgeg': 1801, 'lazadaaaaa': 1802, 'game': 1803, 'changer': 1804, 'convert': 1805, 'calls': 1806, 'expiry': 1807, '5g': 1808, 'lte': 1809, 'highlights': 1810, 'inferior': 1811, 'area': 1812, 'manila': 1813, \"could've\": 1814, 'housing': 1815, 'wi': 1816, 'fi': 1817, 'deteriorates': 1818, 'known': 1819, 'thousand': 1820, 'dollar': 1821, 'italian': 1822, 'draped': 1823, 'fed': 1824, 'frame': 1825, 'remarkable': 1826, 'string': 1827, 'legal': 1828, 'victories': 1829, 'simply': 1830, 'stood': 1831, 'paralyzed': 1832, 'shock': 1833, 'witnessed': 1834, 'letting': 1835, 'conducting': 1836, 'mmmmmmm': 1837, 'mmggggggggggggaaaaaannnnnnnnnddddddddddaaaaaaaaqa': 1838, 'sssssssssssssssyyyyyyyyyyyyyyyyyaaaaaaaa': 1839, 'fffaaaast': 1840, 'cccchaaarrggggggiiiiiiinnnnnnnnngggggggggggggggvg': 1841, 'matagalan': 1842, 'nato': 1843, 'acomodating': 1844, 'morning': 1845, 'pasensya': 1846, 'init': 1847, 'mouthpiece': 1848, 'tinary': 1849, 'kopo': 1850, 'loloko': 1851, 'nasya': 1852, 'hingit': 1853, 'kanina': 1854, 'dna': 1855, 'binalik': 1856, 'sukli': 1857, 'tlg': 1858, 'thanx': 1859, 'kaojcjwjxksosjcbcnjdjdjsnjsjsjjxnnfnnfnfkdjjsjjsnsnsnjsjjdjjfjfnnfjjfjfjj': 1860, 'pagkabalot': 1861, 'designed': 1862, 'mahulog': 1863, 'kakatingin': 1864, 'hawak': 1865, 'nood': 1866, 'agus': 1867, 'mangangalalay': 1868, 'kamay': 1869, 'kakapanood': 1870, 'series': 1871, 'holders': 1872, 'greens': 1873, 'nahuhulog': 1874, 'nakatayo': 1875, 'adjustable': 1876, 'convenient': 1877, 'usefast': 1878, 'picky': 1879, 'person': 1880, \"what's\": 1881, 'address': 1882, 'served': 1883, 'qt': 1884, 'ya': 1885, 'noong': 1886, 'wortit': 1887, 'gamda': 1888, 'taga': 1889, 'amin': 1890, 'once': 1891, '28': 1892, '29': 1893, 'binububble': 1894, 'lugar': 1895, 'uminit': 1896, 'magchacharge': 1897, '25': 1898, 'minutes': 1899, 'iinit': 1900, 'core': 1901, \"work's\": 1902, 'ngagamit': 1903, 'mafragal': 1904, 'myo': 1905, 'bibigay': 1906, 'communicate': 1907, 'avoid': 1908, 'maiintindihan': 1909, 'pagdating': 1910, 'naming': 1911, 'alagaan': 1912, 'kse': 1913, 'paulit': 1914, 'kaming': 1915, 'sellers': 1916, 'asmuch': 1917, 'told': 1918, 'nagsend': 1919, 'vilolet': 1920, 'appreciated': 1921, 'bumabagal': 1922, 'pagcharge': 1923, 'mataas': 1924, 'masusunod': 1925, 'test': 1926, 'reserba': 1927, 'incase': 1928, 'namen': 1929, 'laman': 1930, 'iksi': 1931, 'meter': 1932, 'haiissst': 1933, 'furst': 1934, 'naimutan': 1935, 'hihihi': 1936, 'cords': 1937, 'kaayos': 1938, 'nakalipas': 1939, 'paggamit': 1940, 'nagchacharge': 1941, 'cturer': 1942, 'howcome': 1943, 'lwng': 1944, 'nanloko': 1945, 'corner': 1946, 'babalik': 1947, 'sayo': 1948, 'masama': 1949, 'goodluck': 1950, 'hgrxvjouffhitfbjresfjkhcfutecvkkfffgcderiijvdsfhijvfdgujbddghbvfdesfjoonfddvfyhfdtvnigcdechukhdxcchjnbffhiuessvhlkjcdds': 1951, 'gold': 1952, 'yari': 1953, 'holder': 1954, 'iyan': 1955, 'between': 1956, 'duha': 1957, 'november': 1958, '24': 1959, 'pieces': 1960, 'nilang': 1961, 'reminder': 1962, 'fighting': 1963, 'allcolorsarebeautiful': 1964, 'blacklivesmatter': 1965, 'nmng': 1966, 'dpende': 1967, 'approved': 1968, 'pagpilian': 1969, 'susundin': 1970, 'kana': 1971, 'dibaaa': 1972, 'location': 1973, 'nagorder': 1974, 'pinakadisappointing': 1975, 'landyard': 1976, 'improve': 1977, 'crap': 1978, 'disaster': 1979, 'paladesisyon': 1980, 'nakakafrustrate': 1981, 'guidelines': 1982, 'piliin': 1983, 'include': 1984, 'nakasama': 1985, 'nakalimutan': 1986, 'yata': 1987, 'attach': 1988, 'spoon': 1989, 'secured': 1990, 'paired': 1991, 'disassembled': 1992, 'discover': 1993, 'each': 1994, 'half': 1995, 'kilo': 1996, '375': 1997, 'serves': 1998, 'glass': 1999, 'malalagay': 2000, 'malaman': 2001, 'nasunog': 2002, 'ganitong': 2003, 'pinapadala': 2004, 'binabayaran': 2005, 'matutuwa': 2006, 'naisip': 2007, 'dq': 2008, 'nasa2ra': 2009, 'si2ngaw': 2010, 'condiments': 2011, 'ila2gay': 2012, 'pakipadala': 2013, 'hawakan': 2014, '120': 2015, 'mg': 2016, 'sara': 2017, 'tkip': 2018, 'nyangkabliktad': 2019, 'mgnda': 2020, 'inside': 2021, 'bottle': 2022, 'mahabang': 2023, 'hiwa': 2024, 'bubog': 2025, 'kinalabasan': 2026, 'dazzle': 2027, 'cup': 2028, 'hairclip': 2029, 'basahan': 2030, 'egg': 2031, 'beater': 2032, 'san': 2033, 'rio': 2034, 'irereport': 2035, 'kkta': 2036, '11pesos': 2037, '7pesos': 2038, 'kalokohan': 2039, 'nakabaliktad': 2040, 'ggamitin': 2041, 'deserves': 2042, '6666666666766766': 2043, 'goodgumagana': 2044, 'nakuhanan': 2045, 'tumugaldi': 2046, 'b4': 2047, 'pre': 2048, 'outcome': 2049, 'empty': 2050, '1a': 2051, '9pm': 2052, '1pm': 2053, 'led': 2054, 'deem': 2055, 'lowbat': 2056, 'ohone': 2057, 'uag': 2058, 'nakwgaj': 2059, 'lagahwo': 2060, 'ahaksuwg': 2061, 'kwjjfskao': 2062, 'wgakwkwhwnwkw': 2063, 'ajjwkwqkjwgekwe': 2064, 'sjejwhwjwhjsjwkwoiw': 2065, 'nrvc': 2066, 'nacharge': 2067, 'chinacharge': 2068, 'puno': 2069, 'ao': 2070, 'nbother': 2071, 'napa': 2072, '57': 2073, '84': 2074, '1½': 2075, 'hanggang': 2076, '2hrs': 2077, 'hrs': 2078, 'mapapamura': 2079, 'pakikitungu': 2080, 'pakiayos': 2081, 'kaysa': 2082, 'kabadtrip': 2083, 'napakapangit': 2084, 'kabonding': 2085, 'comprehensive': 2086, 'tldr': 2087, 'pctech': 2088, 'selling': 2089, 'counterfeit': 2090, 'marking': 2091, 'round': 2092, 'tip': 2093, 'self': 2094, 'build': 2095, 'laughable': 2096, 'horrible': 2097, 'keeps': 2098, 'disconnecting': 2099, 'literally': 2100, 'cm': 2101, 'head': 2102, 'liar': 2103, 'nandito': 2104, 'bigyan': 2105, 'papasok': 2106, 'yeeeeyy': 2107, 'camera': 2108, 'pouchperfect': 2109, 'dilevery': 2110, 'inaanak': 2111, 'lalong': 2112, 'oliver': 2113, 'dpat': 2114, 'purple': 2115, 'dpa': 2116, 'natutuloy': 2117, 'swimming': 2118, 'satisfy': 2119, 'padinn': 2120, 'pasukin': 2121, 'kilala': 2122, 'hahaa': 2123, 'pariho': 2124, 'cool': 2125, 'akalain': 2126, 'binukasan': 2127, 'papasukan': 2128, 'pipindot': 2129, 'ilalim': 2130, 'wah': 2131, 'beach': 2132, 'kasyang': 2133, 'mgaganda': 2134, 'a71': 2135, 'underwater': 2136, 'pinasukan': 2137, 'ibubble': 2138, 'madamage': 2139, 'kasamang': 2140, 'isawsaw': 2141, 'buwan': 2142, 'tjlsfsfbzfskhrakhrskharjhsfksfhkfshkrhskrhdkrshjrhhjfzxhfkxrhxrgjegsragjjfjaafjjduafjhzgxjrgjrdhggyjdvhdrvsrrgsecgaexgsedgfaegseffghcrsgchdsgdhschdhjdgthjdtgfbylkghykkbigukfyhojdtcrstehdtedattdeytedagtedagxeadgexahagdrhshfrsjfjgdkouhtopuhtoilygfgkuvfufrweydetdwteydy': 2143, 'within': 2144, 'timeframe': 2145, 'assurance': 2146, 'leakage': 2147, 'menthol': 2148, 'takaga': 2149, 'legitttt': 2150, 'kakabukas': 2151, 'ubos': 2152, 'fake': 2153, 'cost': 2154, '185': 2155, 'perang': 2156, 'huhu': 2157, 'gawan': 2158, 'paraan': 2159, 'report': 2160, 'magcharge': 2161, 'sulitttttt': 2162, 'mukang': 2163, 'napansin': 2164, 'lumuwag': 2165, 'dulo': 2166, 'fone': 2167, 'convenience': 2168, 'nysbahahhahahahahahahhahahahahhahahahahahahhshshshshahsbahahbsbsbsbsbsbsbbsbsbsbsbsbsbsbsbsbsbsbsbshshhshshshsbsbs': 2169, 'act': 2170, 'esend': 2171, 'discount': 2172, 'hanap': 2173, 'models': 2174, '222': 2175, '221': 2176, 'eee': 2177, 'nnajaja': 2178, 'kakakakakakakakakakakakakakakaini': 2179, 'thier': 2180, 'isasauli': 2181, 'pipila': 2182, 'pagkahabahaba': 2183, 'chinecheck': 2184, 'nagaya': 2185, 'antagal': 2186, 'lumagpas': 2187, 'tumalagal': 2188, 'esp': 2189, 'laptops': 2190, '0': 2191, 'ports': 2192, 'ervin': 2193, 'pabillare': 2194, 'installed': 2195, 'website': 2196, 'boom': 2197, 'running': 2198, 'windows10': 2199, 'church': 2200, 'play': 2201, 'minute': 2202, 'poco': 2203, 'f1': 2204, 'a5': 2205, '2020': 2206, 'devices': 2207, 'detect': 2208, 'stocks': 2209, 'differnt': 2210, 'supplier': 2211, 'extension': 2212, 'nagagamit': 2213, 'aantayin': 2214, 'dangle': 2215, 'namanbilis': 2216, '13': 2217, 'june': 2218, 'additional': 2219, 'naresolve': 2220, 'mababa': 2221, 'nabibigay': 2222, 'nanresolution': 2223, '2md': 2224, 'resolution': 2225, 'nagfliflicker': 2226, 'namamatay': 2227, 'nakakabit': 2228, 'kailangan': 2229, 'tanggalin': 2230, 'port': 2231, 'pagpahingahin': 2232, 'delivers': 2233, 'playback': 2234, 'references': 2235, 'edited': 2236, 'unit': 2237, 'rotation': 2238, 'macos': 2239, 'catalina': 2240, 'usable': 2241, 'where': 2242, 'comaptibility': 2243, 'etong': 2244, 'chipset': 2245, 'extend': 2246, 'presenter': 2247, 'playstore': 2248, 'otg': 2249, 'magsisilbing': 2250, 'host': 2251, 'nagwowork': 2252, 'madetermine': 2253, 'nokia': 2254, 'tech': 2255, 'mhl': 2256, 'following': 2257, 'manual': 2258, 'accomodating': 2259, 'tanong': 2260, 'regulator': 2261, 'iikutin': 2262, 'clockwise': 2263, 'bumilis': 2264, 'securedly': 2265, 'issues': 2266, 'whatsoever': 2267, \"son's\": 2268, 'uses': 2269, 'class': 2270, 'course': 2271, 'cools': 2272, 'puwede': 2273, 'max': 2274, 'users': 2275, 'huawei': 2276, 'feeling': 2277, 'weak': 2278, 'potent': 2279, 'warning': 2280, '6fan': 2281, 'coolong': 2282, 'jsjsudufudhfuufifieieisisiduduwuwuusufudusudududududu': 2283, 'agreement': 2284, 'previously': 2285, 'tricked': 2286, 'siyang': 2287, 'mode': 2288, 'kapit': 2289, 'pandikit': 2290, 'improvise': 2291, 'sided': 2292, 'tape': 2293, 'regards': 2294, 'napapailaw': 2295, 'ibat': 2296, 'pipilian': 2297, 'iroll': 2298, 'lighting': 2299, 'modes': 2300, 'during': 2301, 'natusok': 2302, 'tagos': 2303, 'patungan': 2304, 'kakagawa': 2305, 'lamesa': 2306, 'sections': 2307, 'strip': 2308, 'dimmer': 2309, 'plugged': 2310, 'shut': 2311, 'manually': 2312, 'breathing': 2313, 'making': 2314, 'gradual': 2315, 'slower': 2316, 'stiff': 2317, 'reminds': 2318, 'xmas': 2319, 'premium': 2320, 'intended': 2321, 'issued': 2322, 'help': 2323, 'sequence': 2324, 'mabagal': 2325, 'texture': 2326, 'secs': 2327, 'appear': 2328, 'multi': 2329, 'nagblend': 2330, 'nagfufunction': 2331, 'mn': 2332, 'edeliver': 2333, 'iilaw': 2334, 'umilaw': 2335, 'transport': 2336, 'standards': 2337, 'ooooooookkkkkkkkkkk': 2338, 'asaorted': 2339, 'binenta': 2340, 'kasamahan': 2341, '65': 2342, 'co': 2343, 'drained': 2344, '3x': 2345, 'rate': 2346, '5stars': 2347, 'shipment': 2348, 'kmi': 2349, 'province': 2350, '53': 2351, 'rcvd': 2352, 'iphone': 2353, 'x': 2354, 'yuwn': 2355, 'fingers': 2356, 'crossed': 2357, 'choose': 2358, 'refer': 2359, 'hoped': 2360, 'mixed': 2361, 'madam': 2362, 'lalake': 2363, 'jsjsjsjsjsjsnsbbsbsbsbsbsnjshshshdhdhdhdjdjdjdjdjdjjdjdjdjdjdjdndnndndndndndndndndnndndndndn': 2364, 'disaapoint': 2365, 'pinadla': 2366, 'assorted': 2367, 'mahagin': 2368, 'kapitbhay': 2369, 'vilis': 2370, 'gdfffffgsusksjskkskskskjsjsjsjsjsjsjdjdjakskkskskskksksjdnsnsnskkskskdkkskdkskdkkdkdkdkfnskskkdkskkskskdkd': 2371, 'nahabaan': 2372, 'qnd': 2373, 'special': 2374, 'cctv': 2375, 'seem': 2376, 'sturnilio': 2377, 'release': 2378, 'shadow': 2379, 'produced': 2380, 'hahahahabdbxjendkcnrnskksnrksubrkwoinfhwoalamwrbfidubeusuhbebuudbwhifhebduxinsbs': 2381, 'selller': 2382, 'magclose': 2383, 'trabsaction': 2384, 'magconfirm': 2385, 'makuhang': 2386, 'madwliver': 2387, 'mouae': 2388, 'magalaw': 2389, 'tyagain': 2390, 'movement': 2391, 'pointer': 2392, 'mousepad': 2393, 'responded': 2394, 'messages': 2395, 'mahirap': 2396, 'igalaw': 2397, 'pumupunta': 2398, 'yu': 2399, 'sensitivity': 2400, 'wheel': 2401, 'dropping': 2402, 'nagsstop': 2403, 'dragging': 2404, 'sguro': 2405, 'backlit': 2406, 'functions': 2407, 'telling': 2408, 'siblings': 2409, \"y'all\": 2410, 'sobang': 2411, 'happ': 2412, 'cuteness': 2413, 'overload': 2414, 'napakabait': 2415, 'obsessed': 2416, 'gandaaaaaaaaaaaaaaaaaaaaaaaaaaaaaaaaaaaaaaaaaaaaaaq': 2417, 'board': 2418, 'matigas': 2419, 'iclick': 2420, 'hanapin': 2421, 'gagana': 2422, 'longer': 2423, 'enjoy': 2424, \"mouse's\": 2425, 'keycaps': 2426, 'keyboards': 2427, 'pake': 2428, 'hahahahhahahahahahajajajajahhahahahah': 2429, 'nahala': 2430, 'ahhahahhajaha': 2431, 'konting': 2432, 'gasgas': 2433, 'keybaord': 2434, 'managed': 2435, 'sablay': 2436, 'j': 2437, 'ninjavan': 2438, 'addition': 2439, 'naulan': 2440, 'siguradong': 2441, 'mababasa': 2442, 'delivering': 2443, 'kayalang': 2444, 'factors': 2445, 'busy': 2446, 'nakapagreview': 2447, 'thankfully': 2448, 'tugma': 2449, 'shift': 2450, 'sign': 2451, 'lumalabas': 2452, 'doing': 2453, 'initial': 2454, 'bz': 2455, 'nailaw': 2456, 'shutdown': 2457, 'shown': 2458, 'operational': 2459, \"s'ya\": 2460, 'blk': 2461, 'kahon': 2462, 'nakakatamad': 2463, 'usually': 2464, 'madilim': 2465, 'makita': 2466, 'letter': 2467, 'uellowish': 2468, 'indi': 2469, 'pagiging': 2470, 'lock': 2471, 'soooooo': 2472, 'excel': 2473, 'switch': 2474, 'pailaw': 2475, 'produkto': 2476, 'ngunit': 2477, 'kaganda': 2478, 'kaniyang': 2479, 'performance': 2480, 'nalamang': 2481, 'letra': 2482, 'napindot': 2483, 'gilid': 2484, 'mechanical': 2485, 'ecstatic': 2486, 'searching': 2487, 'coral': 2488, 'is…': 2489, 'this…': 2490, 'buble': 2491, 'wrapping': 2492, 'tagged': 2493, 'genuine': 2494, 'scheduled': 2495, 'appliances': 2496, 'including': 2497, 'digibox': 2498, 'electric': 2499, 'air': 2500, 'purifier': 2501, 'aircon': 2502, 'lamps': 2503, 'room': 2504, 'voice': 2505, 'controlled': 2506, 'napakagandang': 2507, 'original': 2508, 'malagkit': 2509, '4s': 2510, 'mabils': 2511, 'rubberized': 2512, 'sticky': 2513, 'unboxed': 2514, 'sku': 2515, 'variation': 2516, 'reached': 2517, 'respond': 2518, 'offer': 2519, 'mistake': 2520, 'trouble': 2521, 'prepared': 2522, 'pairing': 2523, 'edifier': 2524, 'saksakan': 2525, 'jack': 2526, 'intindihin': 2527, 'nagtagal': 2528, 'masaya': 2529, 'cousin': 2530, '10ay': 2531, 'bongga': 2532, 'lsobrang': 2533, 'naghahanap': 2534, 'magandang': 2535, 'malinis': 2536, 'magwork': 2537, 'pagkapackage': 2538, 'recently': 2539, 'volume': 2540, 'press': 2541, 'observation': 2542, 'song': 2543, 'goes': 2544, 'due': 2545, 'yt': 2546, 'army': 2547, 'buo': 2548, 'kakaorder': 2549, 'kahapon': 2550, 'malobat': 2551, 'importante': 2552, 'nakakaapak': 2553, 'pinahaba': 2554, 'coins': 2555, 'experience': 2556, 'meh': 2557, 'boosting': 2558, 'netflix': 2559, 'games': 2560, 'bassy': 2561, 'itest': 2562, 'biglang': 2563, 'tenga': 2564, 'kulob': 2565, '210': 2566, 'twice': 2567, 'trace': 2568, 'malow': 2569, 'oct': 2570, '23': 2571, 'biyahe': 2572, 'bike': 2573, 'speacker': 2574, 'papunta': 2575, 'gym': 2576, '40mins': 2577, 'kó': 2578, 'earpiece': 2579, 'sabagay': 2580, 'cia': 2581, 'papanu': 2582, 'mapakinabangan': 2583, 'babait': 2584, 'simpleng': 2585, 'pagpack': 2586, 'dilivery': 2587, 'nagiging': 2588, 'maingat': 2589, 'pagdadala': 2590, '☺': 2591, 'nakabubble': 2592, 'aspect': 2593, 'ear': 2594, 'mainis': 2595, 'gumagaan': 2596, 'nawawala': 2597, 'kabila': 2598, 'haysss': 2599, 'irereturn': 2600, 'magbabayad': 2601, 'shippingkaya': 2602, 'afford': 2603, 'mapapamahal': 2604, 'rap': 2605, 'esom': 2606, 'payoff': 2607, 'brush': 2608, 'flat': 2609, 'curved': 2610, 'magagos': 2611, 'maliban': 2612, 'gabda': 2613, 'girls': 2614, 'messed': 2615, 'beauty': 2616, 'babbaaahjjkkmmnhshsusuanansbhsuskskamsnbsjsjsjsjsksmmmbhjkkkkijjnjjjkjjjjjjkisksksmsmsssjskmssnsjusisksnsmsnsjjsjsmsmsmsmsmskskskksmsmskskmsmsmsmsmsjjsjsjsjsjmsmsmmssmmsmsmsmsmmsmsmsmsmnsjsjsjjsjsjsjsjsjjsjs': 2617, 'maship': 2618, 'pagkadating': 2619, 'nahirapan': 2620, 'kunin': 2621, 'nailpolish': 2622, 'nakailang': 2623, 'pahid': 2624, 'makuha': 2625, 'swipe': 2626, 'clay': 2627, 'fair': 2628, 'ehh': 2629, 'teal': 2630, 'ultramarine': 2631, 'coverage': 2632, 'sheer': 2633, 'unfair': 2634, 'opaque': 2635, 'suppose': 2636, 'redo': 2637, 'done': 2638, 'read': 2639, 'reviewi': 2640, 'truthrevealed': 2641, '■product': 2642, '》liquid': 2643, 'coatings': 2644, 'shiny': 2645, '》color': 2646, 'fragrance': 2647, 'polishes': 2648, 'suggestion': 2649, 'lessen': 2650, 'scent': 2651, '》packaging': 2652, 'aesthetic': 2653, 'shake': 2654, 'applicator': 2655, '》applicator': 2656, 'soft': 2657, 'gets': 2658, '■delivery': 2659, 'yesterday': 2660, 'shops': 2661, 'dikit': 2662, 'nabunot': 2663, 'pilikmata': 2664, 'strong': 2665, 'indeed': 2666, 'magnda': 2667, 'bagung': 2668, 'kang': 2669, 'makitang': 2670, 'male': 2671, 'syaaaa': 2672, 'thankyouuu': 2673, 'car': 2674, '2e9dxcar': 2675, '2e9dx': 2676, 'per': 2677, 'usual': 2678, 'manong': 2679, 'courteous': 2680, 'containing': 2681, 'cannot': 2682, 'glue': 2683, 'sticks': 2684, 'lid': 2685, 'hurt': 2686, 'falsies': 2687, 'eyelashes': 2688, 'nichido': 2689, 'container': 2690, 'famous': 2691, 'vlogger': 2692, 'questioning': 2693, 'considerate': 2694, 'makeup': 2695, 'despite': 2696, 'damages': 2697, 'appropriate': 2698, 'magkamake': 2699, 'talagatas': 2700, 'kakaiba': 2701, 'talagathankyou': 2702, 'looked': 2703, 'bigger': 2704, 'material': 2705, 'fffffjhdvhfbggvhggggfddssgbjutfvdsghgkeyieykshksukduoduoehldukdoyyitwwteyeyyioyyoeyuoeyyoluslhour': 2706, 'grt': 2707, 'nyang': 2708, 'paisa': 2709, 'gf': 2710, 'natatanggal': 2711, 'db': 2712, 'lan': 2713, 'nde': 2714, 'nagets': 2715, 'lipsticks': 2716, 'ate': 2717, 'ri': 2718, 'gustuhan': 2719, 'natu': 2720, 'hayss': 2721, 'tqpos': 2722, 'bango': 2723, 'asim': 2724, 'clarify': 2725, 'malito': 2726, '365': 2727, 'sakn': 2728, 'lipstik': 2729, 'sponge': 2730, 'magulo': 2731, 'pagkakaayos': 2732, 'doubt': 2733, 'undamaged': 2734, 'mascara': 2735, 'confidence': 2736, 'maskera': 2737, 'foam': 2738, 'kin': 2739, 'pagorder': 2740, 'kakadissapoint': 2741, 'nexttym': 2742, 'maglalagay': 2743, 'isasama': 2744, 'haystttt': 2745, 'kasinungaling': 2746, 'ginagawa': 2747, 'packeging': 2748, 'grand': 2749, 'child': 2750, 'iisa': 2751, 'jusko': 2752, 'hatdog': 2753, 'lipgloss': 2754, 'parcell': 2755, 'definetely': 2756, 'okie': 2757, 'amaze': 2758, 'pinangregalo': 2759, 'halos': 2760, 'kakumay': 2761, 'glittery': 2762, 'shines': 2763, 'lagayan': 2764, 'naiikot': 2765, 'badly': 2766, 'woth': 2767, 'pigmentation': 2768, 'bubblewrap': 2769, 'bronzer': 2770, 'gorgeous': 2771, 'fresh': 2772, 'tiktok': 2773, 'youuuu': 2774, 'naubos': 2775, 'nakakablooming': 2776, 'pagdeliver': 2777, 'pagnaubos': 2778, 'jajhsushhshdhdujdjduidjdjjdjduhe': 2779, 'jsjzhgstsjsijshsyhshsjsjgstshsusuhwuwh': 2780, 'budget': 2781, 'cguradong': 2782, 'ssisi': 2783, 'irritate': 2784, 'perhaps': 2785, 'spots': 2786, 'overrated': 2787, 'nacoconceal': 2788, 'imperfection': 2789, 'mabango': 2790, 'credits': 2791, 'haven': 2792, 'proper': 2793, 'matatakpan': 2794, 'marka': 2795, 'balat': 2796, 'peklat': 2797, 'visible': 2798, 'somehow': 2799, 'added': 2800, 'mesyo': 2801, 'described': 2802, 'ago': 2803, \"wasn't\": 2804, 'wiped': 2805, 'sweat': 2806, 'bb': 2807, 'cream': 2808, 'advertisment': 2809, 'live': 2810, 'advertise': 2811, 'eventhough': 2812, 'lighter': 2813, 'foundation': 2814, 'sit': 2815, 'acidic': 2816, 'causes': 2817, 'breakouts': 2818, 'recieve': 2819, 'conceal': 2820, 'anything': 2821, 'aku': 2822, 'wife': 2823, 'magdiliver': 2824, 'shajajajkajauwuauaja': 2825, 'hahsjsjsjajjwjaja': 2826, 'sis': 2827, 'hahaahhaha': 2828, 'loving': 2829, 'thanxmuch': 2830, 'vintage': 2831, 'tee': 2832, 'heels': 2833, 'cobblestones': 2834, 'sequin': 2835, 'smile': 2836, 'sensual': 2837, 'politics': 2838, \"dancin'\": 2839, \"levi's\": 2840, 'drunk': 2841, 'streetlight': 2842, 'hand': 2843, 'sweatshirt': 2844, 'baby': 2845, 'kiss': 2846, 'felt': 2847, 'cardigan': 2848, \"someone's\": 2849, 'bed': 2850, 'masipag': 2851, 'natry': 2852, 'subtle': 2853, 'pigment': 2854, 'subscribe': 2855, 'anongsayotv': 2856, 'aa': 2857, 'pagoapadeliver': 2858, 'faster': 2859, 'brittle': 2860, 'gstong': 2861, 'morenang': 2862, 'tulad': 2863, 'bbili': 2864, 'ult': 2865, 'fs': 2866, 'mhal': 2867, 'sf': 2868, 'mbilis': 2869, 'dmtng': 2870, 'kgabi': 2871, 'knabuksan': 2872, 'wellthe': 2873, 'learn': 2874, 'warmtone': 2875, 'tones': 2876, 'napakadali': 2877, 'iapply': 2878, 'hahahaahaahaahaahhaahhahaahahahaahahahaahahahaaahahha': 2879, 'ulet': 2880, 'nabilibut': 2881, 'pigmented': 2882, 'dry': 2883, 'lips': 2884, 'eye': 2885, '5x': 2886, 'kona': 2887, 'tagala': 2888, 'guess': 2889, 'isn': 2890, 'filo': 2891, 'virgin': 2892, 'fill': 2893, 'areas': 2894, 'kua': 2895, 'pagkaka': 2896, 'nyapara': 2897, 'nicely': 2898, 'nkpg': 2899, 'feedback': 2900, 'natapon': 2901, 'karton': 2902, 'nyan': 2903, 'mtagal': 2904, 'shades': 2905, 'pencils': 2906, '0k': 2907, 'tumatagal': 2908, 'dali': 2909, 'ends': 2910, 'youre': 2911, 'careful': 2912, 'putting': 2913, 'smushed': 2914, 'sadtttt': 2915, 'magtry': 2916, 'lip': 2917, 'ink': 2918, 'completely': 2919, 'understand': 2920, 'shippibg': 2921, 'clients': 2922, 'approachable': 2923, 'nagmessage': 2924, 'napalitan': 2925, 'kasmooth': 2926, 'nagkakaroon': 2927, 'bumps': 2928, 'quickly': 2929, 'hard': 2930, 'draw': 2931, 'brows': 2932, 'might': 2933, 'bkt': 2934, 'nd': 2935, 'tnry': 2936, 'tnxz': 2937, 'ngdeliver': 2938, 'guato': 2939, 'dominant': 2940, 'pinagkaiba': 2941, 'blend': 2942, 'maubos': 2943, 'maputol': 2944, 'mka': 2945, 'salanat': 2946, 'bebenta': 2947, 'tita': 2948, 'mahilig': 2949, 'pangkilay': 2950, 'nicel': 2951, 'awake': 2952, 'sia': 2953, 'mabenta': 2954, 'mai': 2955, 'matanggap': 2956, 'nf': 2957, 'narecieved': 2958, 'mula': 2959, 'naipadala': 2960, 'doon': 2961, 'gel': 2962, 'ordinary': 2963, 'dept': 2964, 'softer': 2965, '6yr': 2966, 'yr': 2967, 'mataba': 2968, 'bata': 2969, 'add': 2970, 'organics': 2971, 'consistent': 2972, 'reasonably': 2973, 'priced': 2974, 'dinmedyo': 2975, 'magada': 2976, 'nakupas': 2977, 'asul': 2978, 'higher': 2979, 'diff': 2980, 'adults': 2981, 'colored': 2982, 'yrs': 2983, 'presentable': 2984, 'sanayung': 2985, '1300': 2986, 'peso': 2987, 'dagdag': 2988, '20pc': 2989, 'magagastos': 2990, 'paglagan': 2991, 'gaganda': 2992, 'hihingin': 2993, 'favor': 2994, 'pakitranslate': 2995, 'sulat': 2996, 'galing': 2997, 'english': 2998, 'sige': 2999, 'dear': 3000, 'brent': 3001, 'saw': 3002, 'sumaya': 3003, 'ge': 3004, 'ituloy': 3005, 'thats': 3006, 'collect': 3007, 'kinolekta': 3008, 'ipost': 3009, 'erefund': 3010, 'plssssssss': 3011, 'son': 3012, 'sinuot': 3013, 'nlagay': 3014, 'deretcho': 3015, 'laundry': 3016, 'susuot': 3017, 'kz': 3018, '12pesos': 3019, 'bahay': 3020, 'doblehin': 3021, 'makina': 3022, 'iba2': 3023, 'mapunit': 3024, 'halo': 3025, 'cartoons': 3026, 'bagal': 3027, 'usad': 3028, 'ximex': 3029, 'pantulog': 3030, 'pagtyagaan': 3031, 'oky': 3032, 'hehee': 3033, 'garter': 3034, 'puhunan': 3035, 'bogus': 3036, 'marupok': 3037, 'bababa': 3038, 'natatawa': 3039, 'ak': 3040, 'thankyouuuuu': 3041, 'verry': 3042, 'cheapest': 3043, 'generally': 3044, 'pockets': 3045, 'pgka': 3046, 'prize': 3047, 'kumpara': 3048, 'delayed': 3049, 'disapointing': 3050, 'costomer': 3051, 'pagkatahi': 3052, 'lace': 3053, 'loosen': 3054, 'strands': 3055, 'adjust': 3056, 'aperfect': 3057, 'kolang': 3058, 'ankle': 3059, 'shoes': 3060, 'page': 3061, 'aga': 3062, 'youuuuuuuuu': 3063, 'youuuuuuuuuuuuuuuuuuuuuuuuuuuuuu': 3064, 'stitches': 3065, 'tatastas': 3066, 'natatatngal': 3067, 'mjo': 3068, 'nla': 3069, 'sktong2x': 3070, 'tyaka': 3071, 'waistline': 3072, 'ugh': 3073, 'masarap': 3074, 'nsa': 3075, 'cart': 3076, 'orderin': 3077, 'pangatlo': 3078, 'kuna': 3079, 'knina': 3080, \"5'7\": 3081, 'partner': 3082, 'bulsa': 3083, 'lacks': 3084, 'hole': 3085, 'tinamad': 3086, 'ibng': 3087, 'dumatiing': 3088, 'pagbigyan': 3089, 'lumiit': 3090, 'pantalon': 3091, 'umaaaaaay': 3092, 'control': 3093, 'tsinek': 3094, 'yumg': 3095, 'inorderan': 3096, 'klase': 3097, 'pnadala': 3098, 'mlaki': 3099, 'baba': 3100, 'paa': 3101, 'dko': 3102, 'maisuot': 3103, 'entrada': 3104, 'jsjsjsjskksodidjdhsjusushebshsgsosbslznsjshsvsghsslsnshsgssisvsyslabsisfaoabsushshzhshshshsbhshsozkzjzjsjsjushshhsbehekwososksksjshehejshehshsjowsjjshsshhshshshshsbhshsusjsjsjsososjehesjsjsksksksjsjjssjsjsjis': 3105, 'size28': 3106, 'laylayan': 3107, 'lumang': 3108, 'hah': 3109, 'masikip': 3110, 'magsusuot': 3111, 'tym': 3112, 'maireturn': 3113, 'ireorder': 3114, 'ngpapalit': 3115, 'rude': 3116, 'denilever': 3117, 'diffrent': 3118, 'exoecting': 3119, 'zise': 3120, 'stretch': 3121, 'slim': 3122, 'pale': 3123, 'nakakadismayado': 3124, 'mgkaiba': 3125, 'nakakadisapoint': 3126, 'kindly': 3127, 'meeting': 3128, 'staffs': 3129, 'magkamali2': 3130, 'kinailangan': 3131, 'tahiin': 3132, 'umayos': 3133, 'yoko': 3134, 'reklamo': 3135, 'client': 3136, 'nanaman': 3137, 'tipaklong': 3138, 'palito': 3139, 'muscle': 3140, '33': 3141, 'mam': 3142, 'evening': 3143, 'isosoli': 3144, 'magkaibang': 3145, 'bumayad': 3146, 'dissapointing': 3147, 'skinnyjeans': 3148, 'fitting': 3149, 'ambel': 3150, 'toh': 3151, 'basa²': 3152, 'kumuha': 3153, 'ineexpect': 3154, 'malayong': 3155, 'malayo': 3156, 'bhi3': 3157, 'h': 3158, \"5'\": 3159, '47': 3160, 'built': 3161, 'panalong': 3162, 'panalofirst': 3163, 'nasukat': 3164, 'bgo': 3165, 'ipadeliver': 3166, 'warm': 3167, 'snuggly': 3168, 'png': 3169, 'tagaytay': 3170, 'baguio': 3171, 'sagada': 3172, 'ur': 3173, 'normally': 3174, 'gand': 3175, 'sukat': 3176, 'ooopppss': 3177, 'sumunod': 3178, 'qoh': 3179, 'ding': 3180, 'lastly': 3181, 'binuksan': 3182, 'pagkaopen': 3183, 'dlawang': 3184, '2x': 3185, 'forward': 3186, 'makatanggap': 3187, 'magbalot': 3188, 'magpadala': 3189, 'satistfied': 3190, 'sinend': 3191, 'chiclet': 3192, 'likod': 3193, 'pako': 3194, 'poa': 3195, 'pangalawa': 3196, 'napahiya': 3197, 'bibigyan': 3198, 'panamin': 3199, 'mabawi': 3200, 'ginastos': 3201, 'jackets': 3202, '336': 3203, '72': 3204, 'th': 3205, 'cooperating': 3206, 'hayst': 3207, 'nakakadissappoint': 3208, 'bwakanang': 3209, 'inang': 3210, 'bobo': 3211, 'buset': 3212, 'idiot': 3213, 'importanteng': 3214, 'saamin': 3215, 'puti': 3216, 'putangina': 3217, 'pooooooooorrrrrrr': 3218, 'mosg': 3219, 'lot': 3220, 'complaints': 3221, 'formal': 3222, 'directly': 3223, \"lazada's\": 3224, 'office': 3225, 'tastas': 3226, 'wenta': 3227, 'tssss': 3228, 'sususunod': 3229, 'magreview': 3230, 'mabuting': 3231, 'sasabihin': 3232, 'mgreturn': 3233, 'hinintay': 3234, 'ireturn': 3235, 'ngpapapili': 3236, 'buyerorder': 3237, 'kinang': 3238, 'konti': 3239, 'amp': 3240, 'niu': 3241, 'wg': 3242, 'pahalata': 3243, 'scamas': 3244, 'panganay': 3245, 'bunso': 3246, 'nagkasya': 3247, 'lungkot': 3248, 'iimprintahan': 3249, 'packages': 3250, 'rerefund': 3251, 'forver': 3252, 'indicated': 3253, 'probably': 3254, 'sabihin': 3255, 'icancel': 3256, 'pinangbabayad': 3257, 'inyo…': 3258, \"isn't\": 3259, 'kakareceive': 3260, 'kopalang': 3261, 'ayosin': 3262, 'serbisyo': 3263, 'pinalbc': 3264, 'binayad': 3265, 'orderan': 3266, 'pangbata': 3267, 'kakaurat': 3268, 'blacks': 3269, 'mabiling': 3270, 'anyare': 3271, 'binabayad': 3272, 'ibibgay': 3273, 'titinda': 3274, 'bubudos': 3275, 'yawa': 3276, 'napakalayo': 3277, 'clearly': 3278, 'iw': 3279, 'bulag': 3280, 'prepare': 3281, 'men': 3282, 'unisex': 3283, 'shd': 3284, 'action': 3285, 'specs': 3286, 'sabe': 3287, 'bastos': 3288, 'gg': 3289, 'liet': 3290, 'tangina': 3291, 'anoyyed': 3292, 'insted': 3293, 'bakt': 3294, 'hay': 3295, 'alisin': 3296, 'pagpipilian': 3297, 'ibabalik': 3298, 'kakaumay': 3299, 'umordernakakadissapoint': 3300, 'kainess': 3301, 'anliit': 3302, 'parng': 3303, 'nakakatuwa': 3304, 'responding': 3305, 'inquiries': 3306, 'tuwing': 3307, 'taglamig': 3308, 'maroon': 3309, 'hai': 3310, 'naku': 3311, 'dipa': 3312, 'nagsayang': 3313, 'aware': 3314, 'ampangit': 3315, 'samen': 3316, 'pangalawang': 3317, 'picked': 3318, 'demise': 3319, 'boss': 3320, 'marefund': 3321, 'poooooooooorrrrrrrr': 3322, 'napapalitan': 3323, 'nabigay': 3324, 'paren': 3325, 'nemen': 3326, 'sobrng': 3327, 'chart': 3328, 'sobrnag': 3329, 'jsushdnckdishnskisjshdbjxkshsbbsmxkvkfjnsbsjdjkdndndjhsbsndjudhshjsjshshjsjsj': 3330, 'ule': 3331, 'zvxnxnxnxnnxmxmxmxmcmmcmcmcmcm': 3332, 'ankapal': 3333, \"4'11\": 3334, 'gastos': 3335, 'transactions': 3336, 'wants': 3337, \"5'6\": 3338, 'chose': 3339, \"5'4\": 3340, 'qwertyuiopasdfghjklzxcvbnm': 3341, 'solid': 3342, \"5'2\": 3343, '49': 3344, '07': 3345, 'arrival': 3346, 'teh': 3347, 'bilin': 3348, 'dabesssss': 3349, 'yunh': 3350, 'med': 3351, 'okayyy': 3352, 'mwehehehehehe': 3353, 'saktuhan': 3354, 'textile': 3355, 'nawa': 3356, 'y': 3357, 'maging': 3358, 'won': 3359, 'magiging': 3360, 'iyon': 3361, 'hhahahhahahahahab2bwvvahajahahahaakskskksksnsnsnnsiaianannaabhuauqubbebbebeha7auosrmmdjzuaunnnajajauai8a8iwjwjjeejdjjjiiiai888wjoowil': 3362, 'trip': 3363, 'makukuha': 3364, 'maigi': 3365, 'nakakagwapo': 3366, 'emz': 3367, 'sjya': 3368, 'bf': 3369, 'hahahahhahahahhahahhahahhah': 3370, 'kanila': 3371, 'compromised': 3372, 'madedeliver': 3373, 'magaganda': 3374, 'pinalitan': 3375, 'iship': 3376, 'pinicturan': 3377, 'vinideo': 3378, 'bandang': 3379, 'becuase': 3380, 'sadddd': 3381, 'fitted': 3382, 'anlaki': 3383, 'average': 3384, 'oversize': 3385, 'pure': 3386, 'balingag': 3387, 'sayangggggggggggggggggggggggggggggggggg': 3388, 'wlaanako': 3389, 'magagawa': 3390, 'pulido': 3391, 'inisip': 3392, 'natin': 3393, 'masayahan': 3394, 'tagiliran': 3395, 'privately': 3396, 'magbbigay': 3397, 'nagbigay': 3398, 'nagrreply': 3399, 'anw': 3400, 'sisnonod': 3401, 'usapan': 3402, 'peru': 3403, 'wrongly': 3404, 'apology': 3405, 'could': 3406, 'hiya': 3407, 'nawawalan': 3408, 'waited': 3409, 'gate': 3410, 'passerby': 3411, 'worse': 3412, 'dishonest': 3413, 'affix': 3414, 'signature': 3415, 'proofs': 3416, 'siraulu': 3417, 'colorway': 3418, 'mocha': 3419, 'clothe': 3420, 'labo': 3421, 'correctly': 3422, 'k94': 3423, 'koh': 3424, 'gandaaaaa': 3425, 'kai': 3426, 'hala': 3427, 'based': 3428, 'ofcourse': 3429, 'vid': 3430, 'kumukuha': 3431, 'repeat': 3432, 'pumangit': 3433, 'according': 3434, 'lo': 3435, 'behold': 3436, 'confused': 3437, 'shows': 3438, 'deceive': 3439, 'smoke': 3440, 'wonder': 3441, 'angry': 3442, 'hastily': 3443, 'repacked': 3444, 'encountered': 3445, 'rarely': 3446, 'manage': 3447, 'unacceptable': 3448, 'thinnest': 3449, 'facemasks': 3450, 'nalamukos': 3451, 'manniwala': 3452, 'comment': 3453, 'pnakamanipis': 3454, 'pnaka': 3455, 'surprise': 3456, 'amag': 3457, 'faded': 3458, 'makakabasa': 3459, 'balaking': 3460, 'dpe': 3461, 'bigay': 3462, 'magddliver': 3463, 'business': 3464, 'makulay': 3465, 'qty': 3466, 'pigtas': 3467, 'nilabas': 3468, 'mahanginan': 3469, 'sakali': 3470, '10pck': 3471, 'every': 3472, 'ideniliver': 3473, 'nkakadismasya': 3474, 'nagkaganito': 3475, 'gagamitin': 3476, 'mkakapasok': 3477, 'gnun': 3478, 'baho': 3479, 'magkakasakit': 3480, 'kundi': 3481, 'magtiwala': 3482, 'grrr': 3483, '20packs': 3484, 'facemash': 3485, 'tawa': 3486, 'cnagot': 3487, 'waang': 3488, 'attitude': 3489, 'binayadnmin': 3490, 'ngpm': 3491, 'nghappy': 3492, 'mgreklmo': 3493, 'ausin': 3494, 'colorblind': 3495, 'prob': 3496, 'pgngrereklmo': 3497, 'pm': 3498, 'gnwa': 3499, 'kgbe': 3500, '1day': 3501, 'bka': 3502, 'kako': 3503, 'noindot': 3504, 'deadma': 3505, 'bawi': 3506, 'denilivered': 3507, 'dibali': 3508, 'kasu': 3509, 'diniliver': 3510, 'nagbayad': 3511, 'pagnagdeliver': 3512, 'sinusure': 3513, 'galit': 3514, 'narecieve': 3515, 'mabailis': 3516, 'tapoa': 3517, 'mabbenta': 3518, '885': 3519, 'grav': 3520, 'porket': 3521, 'papadala': 3522, 'edi': 3523, 'nagchat': 3524, 'sticker': 3525, 'duble': 3526, 'pinatungan': 3527, 'everyone': 3528, 'nabibili': 3529, 'nakaraan': 3530, 'responsible': 3531, 'ooffer': 3532, 'positive': 3533, 'nakikipag': 3534, 'usap': 3535, 'sanang': 3536, 'maulit': 3537}\n"
          ]
        }
      ]
    },
    {
      "cell_type": "markdown",
      "source": [
        "## 2. Sequence the data"
      ],
      "metadata": {
        "id": "I5hVE73gMWzB"
      }
    },
    {
      "cell_type": "code",
      "source": [
        "vocab_size = 3500\n",
        "embedding_dim = 256\n",
        "max_length = 100\n",
        "trunc_type='post'\n",
        "padding_type='post'\n",
        "oov_tok = \"<OOV>\"\n",
        "\n",
        "sequences = tokenizer.texts_to_sequences(dataset['review'])"
      ],
      "metadata": {
        "id": "Un5zy3cLMnLW"
      },
      "execution_count": 159,
      "outputs": []
    },
    {
      "cell_type": "markdown",
      "source": [
        "## 3. Pad the data"
      ],
      "metadata": {
        "id": "BLyaDf-_MojG"
      }
    },
    {
      "cell_type": "code",
      "source": [
        "max_length = max([len(seq) for seq in sequences])\n",
        "padded_sequences = pad_sequences(sequences, maxlen=max_length)"
      ],
      "metadata": {
        "id": "bKP6XJLwMxNL"
      },
      "execution_count": 160,
      "outputs": []
    },
    {
      "cell_type": "markdown",
      "source": [
        "## 4. Train a sentiment model"
      ],
      "metadata": {
        "id": "RTU0X3wtMyIE"
      }
    },
    {
      "cell_type": "code",
      "source": [
        "model = tf.keras.Sequential([\n",
        "   tf.keras.layers.Embedding(len(word_index) + 1, 200, input_length=max_length),\n",
        "   tf.keras.layers.GlobalAveragePooling1D(),\n",
        "   tf.keras.layers.Dense(64, activation='relu'),\n",
        "   tf.keras.layers.Dense(1, activation='sigmoid')\n",
        "])\n",
        "model.compile(loss='binary_crossentropy', optimizer='adam', metrics=['accuracy'])\n",
        "model.fit(padded_sequences, np.array(dataset['rating']), epochs=30, validation_split=0.2)\n",
        "\n"
      ],
      "metadata": {
        "id": "_rK5pEDnM2lA",
        "colab": {
          "base_uri": "https://localhost:8080/"
        },
        "outputId": "fb1e3df1-1a65-41d5-e192-a46b4e7fc09f"
      },
      "execution_count": 161,
      "outputs": [
        {
          "output_type": "stream",
          "name": "stdout",
          "text": [
            "Epoch 1/30\n",
            "25/25 [==============================] - 3s 108ms/step - loss: 0.6868 - accuracy: 0.5587 - val_loss: 0.7632 - val_accuracy: 0.2139\n",
            "Epoch 2/30\n",
            "25/25 [==============================] - 3s 121ms/step - loss: 0.6824 - accuracy: 0.5688 - val_loss: 0.7950 - val_accuracy: 0.2139\n",
            "Epoch 3/30\n",
            "25/25 [==============================] - 2s 79ms/step - loss: 0.6796 - accuracy: 0.5688 - val_loss: 0.7641 - val_accuracy: 0.2139\n",
            "Epoch 4/30\n",
            "25/25 [==============================] - 1s 59ms/step - loss: 0.6731 - accuracy: 0.5700 - val_loss: 0.7733 - val_accuracy: 0.2139\n",
            "Epoch 5/30\n",
            "25/25 [==============================] - 1s 55ms/step - loss: 0.6573 - accuracy: 0.5788 - val_loss: 0.7425 - val_accuracy: 0.2488\n",
            "Epoch 6/30\n",
            "25/25 [==============================] - 1s 52ms/step - loss: 0.6223 - accuracy: 0.6587 - val_loss: 0.6511 - val_accuracy: 0.7015\n",
            "Epoch 7/30\n",
            "25/25 [==============================] - 1s 60ms/step - loss: 0.5612 - accuracy: 0.7775 - val_loss: 0.6256 - val_accuracy: 0.6816\n",
            "Epoch 8/30\n",
            "25/25 [==============================] - 1s 45ms/step - loss: 0.4819 - accuracy: 0.8225 - val_loss: 0.6540 - val_accuracy: 0.5373\n",
            "Epoch 9/30\n",
            "25/25 [==============================] - 1s 22ms/step - loss: 0.3981 - accuracy: 0.8637 - val_loss: 0.4893 - val_accuracy: 0.8507\n",
            "Epoch 10/30\n",
            "25/25 [==============================] - 1s 33ms/step - loss: 0.3379 - accuracy: 0.8788 - val_loss: 0.4410 - val_accuracy: 0.8557\n",
            "Epoch 11/30\n",
            "25/25 [==============================] - 2s 71ms/step - loss: 0.2798 - accuracy: 0.9075 - val_loss: 0.4746 - val_accuracy: 0.8259\n",
            "Epoch 12/30\n",
            "25/25 [==============================] - 1s 34ms/step - loss: 0.2515 - accuracy: 0.9162 - val_loss: 0.4683 - val_accuracy: 0.8209\n",
            "Epoch 13/30\n",
            "25/25 [==============================] - 1s 36ms/step - loss: 0.2229 - accuracy: 0.9250 - val_loss: 0.4684 - val_accuracy: 0.8159\n",
            "Epoch 14/30\n",
            "25/25 [==============================] - 1s 24ms/step - loss: 0.1950 - accuracy: 0.9438 - val_loss: 0.5713 - val_accuracy: 0.7811\n",
            "Epoch 15/30\n",
            "25/25 [==============================] - 1s 24ms/step - loss: 0.1778 - accuracy: 0.9550 - val_loss: 0.5880 - val_accuracy: 0.7662\n",
            "Epoch 16/30\n",
            "25/25 [==============================] - 0s 12ms/step - loss: 0.1599 - accuracy: 0.9563 - val_loss: 0.4743 - val_accuracy: 0.8308\n",
            "Epoch 17/30\n",
            "25/25 [==============================] - 0s 17ms/step - loss: 0.1432 - accuracy: 0.9563 - val_loss: 0.4770 - val_accuracy: 0.8259\n",
            "Epoch 18/30\n",
            "25/25 [==============================] - 1s 17ms/step - loss: 0.1354 - accuracy: 0.9650 - val_loss: 0.5391 - val_accuracy: 0.8259\n",
            "Epoch 19/30\n",
            "25/25 [==============================] - 0s 15ms/step - loss: 0.1198 - accuracy: 0.9725 - val_loss: 0.5509 - val_accuracy: 0.8109\n",
            "Epoch 20/30\n",
            "25/25 [==============================] - 0s 5ms/step - loss: 0.1130 - accuracy: 0.9700 - val_loss: 0.4978 - val_accuracy: 0.8209\n",
            "Epoch 21/30\n",
            "25/25 [==============================] - 0s 17ms/step - loss: 0.1051 - accuracy: 0.9775 - val_loss: 0.7701 - val_accuracy: 0.6468\n",
            "Epoch 22/30\n",
            "25/25 [==============================] - 1s 26ms/step - loss: 0.1016 - accuracy: 0.9725 - val_loss: 0.5311 - val_accuracy: 0.8109\n",
            "Epoch 23/30\n",
            "25/25 [==============================] - 0s 5ms/step - loss: 0.0943 - accuracy: 0.9712 - val_loss: 0.5039 - val_accuracy: 0.8358\n",
            "Epoch 24/30\n",
            "25/25 [==============================] - 0s 18ms/step - loss: 0.0910 - accuracy: 0.9712 - val_loss: 0.5878 - val_accuracy: 0.8109\n",
            "Epoch 25/30\n",
            "25/25 [==============================] - 0s 17ms/step - loss: 0.0813 - accuracy: 0.9775 - val_loss: 0.6355 - val_accuracy: 0.7960\n",
            "Epoch 26/30\n",
            "25/25 [==============================] - 0s 13ms/step - loss: 0.0779 - accuracy: 0.9787 - val_loss: 0.6046 - val_accuracy: 0.8159\n",
            "Epoch 27/30\n",
            "25/25 [==============================] - 0s 19ms/step - loss: 0.0722 - accuracy: 0.9775 - val_loss: 0.8368 - val_accuracy: 0.6716\n",
            "Epoch 28/30\n",
            "25/25 [==============================] - 0s 12ms/step - loss: 0.0708 - accuracy: 0.9812 - val_loss: 0.6624 - val_accuracy: 0.8060\n",
            "Epoch 29/30\n",
            "25/25 [==============================] - 0s 5ms/step - loss: 0.0727 - accuracy: 0.9775 - val_loss: 0.8366 - val_accuracy: 0.6816\n",
            "Epoch 30/30\n",
            "25/25 [==============================] - 0s 9ms/step - loss: 0.0627 - accuracy: 0.9837 - val_loss: 0.6594 - val_accuracy: 0.8259\n"
          ]
        },
        {
          "output_type": "execute_result",
          "data": {
            "text/plain": [
              "<keras.src.callbacks.History at 0x786500671a50>"
            ]
          },
          "metadata": {},
          "execution_count": 161
        }
      ]
    },
    {
      "cell_type": "markdown",
      "source": [
        "## Get files for visualing the network"
      ],
      "metadata": {
        "id": "CNjOxlmhNNp8"
      }
    },
    {
      "cell_type": "code",
      "source": [
        "# answer here\n",
        "model.save('tagalogreviews_sentiment_model.h5')\n",
        "# First get the weights of the embedding layer\n",
        "e = model.layers[0]\n",
        "weights = e.get_weights()[0]\n",
        "print(weights.shape) # shape: (vocab_size, embedding_dim)"
      ],
      "metadata": {
        "id": "TcLIumAPNQ5W",
        "colab": {
          "base_uri": "https://localhost:8080/"
        },
        "outputId": "bd93cb9a-7192-4bc0-a9fc-b4bed58674db"
      },
      "execution_count": 162,
      "outputs": [
        {
          "output_type": "stream",
          "name": "stdout",
          "text": [
            "(3538, 200)\n"
          ]
        },
        {
          "output_type": "stream",
          "name": "stderr",
          "text": [
            "/usr/local/lib/python3.10/dist-packages/keras/src/engine/training.py:3103: UserWarning: You are saving your model as an HDF5 file via `model.save()`. This file format is considered legacy. We recommend using instead the native Keras format, e.g. `model.save('my_model.keras')`.\n",
            "  saving_api.save_model(\n"
          ]
        }
      ]
    },
    {
      "cell_type": "markdown",
      "source": [
        "## 5. Predict sentiment with new reviews"
      ],
      "metadata": {
        "id": "KmGupN3hM-C4"
      }
    },
    {
      "cell_type": "code",
      "source": [
        "# Use the model to predict a review\n",
        "fake_reviews = ['Ang panget!',\n",
        "                'Hindi na ko bibili ulit, kulang ang pinadala niyo!',\n",
        "                'Sobrang ganda po, salamat',\n",
        "                'Maliliit sizes, hindi kasya sakin kahit large na inorder ko.' ,\n",
        "                'Ang ganda po ng quality',\n",
        "                'Worth it po bilhin ang product will order again.' ,\n",
        "                'Unsatisfied',\n",
        "                'Nice quality, will order again.' ,\n",
        "                'Poor quality',\n",
        "                'sir okay armygreen shorts nice',\n",
        "                'Ang pangit ng quality! wag kayo bumili dito']\n",
        "\n",
        "print(fake_reviews)\n",
        "\n",
        "# Create the sequences\n",
        "padding_type='post'\n",
        "sample_sequences = tokenizer.texts_to_sequences(fake_reviews)\n",
        "fakes_padded = pad_sequences(sample_sequences, padding=padding_type, maxlen=max_length)\n",
        "\n",
        "classes = model.predict(fakes_padded)\n",
        "\n",
        "# The closer the class is to 1, the more positive the review is deemed to be\n",
        "for x in range(len(fake_reviews)):\n",
        "  print(fake_reviews[x])\n",
        "  print(classes[x])\n",
        "  print('\\n')"
      ],
      "metadata": {
        "colab": {
          "base_uri": "https://localhost:8080/"
        },
        "id": "W3CGe5EVcJ9f",
        "outputId": "bb84d91e-d859-45f6-b781-1762f05be6b6"
      },
      "execution_count": 164,
      "outputs": [
        {
          "output_type": "stream",
          "name": "stdout",
          "text": [
            "['Ang panget!', 'Hindi na ko bibili ulit, kulang ang pinadala niyo!', 'Sobrang ganda po, salamat', 'Maliliit sizes, hindi kasya sakin kahit large na inorder ko.', 'Ang ganda po ng quality', 'Worth it po bilhin ang product will order again.', 'Unsatisfied', 'Nice quality, will order again.', 'Poor quality', 'sir okay armygreen shorts nice', 'Ang pangit ng quality! wag kayo bumili dito']\n",
            "1/1 [==============================] - 0s 18ms/step\n",
            "Ang panget!\n",
            "[0.32920012]\n",
            "\n",
            "\n",
            "Hindi na ko bibili ulit, kulang ang pinadala niyo!\n",
            "[0.23684889]\n",
            "\n",
            "\n",
            "Sobrang ganda po, salamat\n",
            "[0.9896438]\n",
            "\n",
            "\n",
            "Maliliit sizes, hindi kasya sakin kahit large na inorder ko.\n",
            "[0.16591594]\n",
            "\n",
            "\n",
            "Ang ganda po ng quality\n",
            "[0.95122135]\n",
            "\n",
            "\n",
            "Worth it po bilhin ang product will order again.\n",
            "[0.9500952]\n",
            "\n",
            "\n",
            "Unsatisfied\n",
            "[0.37267974]\n",
            "\n",
            "\n",
            "Nice quality, will order again.\n",
            "[0.9512565]\n",
            "\n",
            "\n",
            "Poor quality\n",
            "[0.15695202]\n",
            "\n",
            "\n",
            "sir okay armygreen shorts nice\n",
            "[0.9711775]\n",
            "\n",
            "\n",
            "Ang pangit ng quality! wag kayo bumili dito\n",
            "[0.27839127]\n",
            "\n",
            "\n"
          ]
        }
      ]
    }
  ],
  "metadata": {
    "accelerator": "GPU",
    "colab": {
      "provenance": [],
      "include_colab_link": true
    },
    "kernelspec": {
      "display_name": "Python 3",
      "name": "python3"
    }
  },
  "nbformat": 4,
  "nbformat_minor": 0
}